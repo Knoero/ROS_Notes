{
 "cells": [
  {
   "cell_type": "markdown",
   "id": "fa168137",
   "metadata": {},
   "source": [
    "**Information:** Some simple notes about using ROS for a quick reference.\n",
    "\n",
    "**Written by:** Zihao Xu\n",
    "\n",
    "**Last update date:** September.22.2021"
   ]
  },
  {
   "cell_type": "markdown",
   "id": "dd0191cc",
   "metadata": {},
   "source": [
    "# ROS Workspace\n",
    "\n",
    "## Catkin Workspaces\n",
    "\n",
    "- A catkin workspace is a folder where you modify, build and install catkin packages.\n",
    "\n",
    "- Usually a catkin workspace (uniformly named *catkin_ws*) consists of three spaces: *build*, *devel*, *src*.\n",
    "    - *src*: The source space contains the source code of catkin packages. This is where the source code for the packages can be edited.\n",
    "    - *build*: The build space is where CMake is invoked to build the catkin packages in the source space. Some cache information and other immediate files of CMake and catkin are kept here.\n",
    "    - *devel*: The development space is where built targets are placed prior to being installed, which provides a useful testing and development environment which does not require invoking the installation step.\n",
    "    - *install*: THe install space is where the built targets are installed and is usually not used in development.\n",
    "    \n",
    "- Detailed information can be found [here](http://wiki.ros.org/catkin/workspaces).\n",
    "\n",
    "## Commonly used commands\n",
    "\n",
    "*``source /opt/ros/<distro>/setup.zsh``* \n",
    "\n",
    "- Set up the environment variables for ROS. \n",
    "\n",
    "- Necessary on every new shell.\n",
    "\n",
    "*``printenv | prep ROS``*\n",
    "\n",
    "- Check the currently activated ROS environments.\n",
    "\n",
    "- Especially useful when multiple versions of ROS are installed.\n",
    "\n",
    "*``catkin_make``*\n",
    "\n",
    "- A convenience tool for building code in a catkin workspaces.\n",
    "\n",
    "- Need to be called in the root of the desired catkin workspace.\n",
    "\n",
    "- Running it the first time in the workspace, it will create a *CMakeLists.txt* in the *src* folder. Previously this is a separate step completed by *``catkin_init_workspace``*.\n",
    "\n",
    "*``source devel/setup.bash``*\n",
    "\n",
    "- Overlay the workspace on top of the environment.\n",
    "\n",
    "- Can be checked by viewing the *ROS_PACKAGE_PATH* environment: *``echo $ROS_PACKAGE_PATH``*."
   ]
  },
  {
   "cell_type": "markdown",
   "id": "d283d38f",
   "metadata": {},
   "source": [
    "%%latex\n",
    "\\newpage"
   ]
  },
  {
   "cell_type": "markdown",
   "id": "fec0d19a",
   "metadata": {},
   "source": [
    "# ROS Filesystem\n",
    "\n",
    "## Packages\n",
    "\n",
    "- *Packages* are the **software organization unit** of ROS code.\n",
    "\n",
    "- Each *package* can contain libraries, executables, scripts, or other artifacts.\n",
    "\n",
    "## Manifests\n",
    "\n",
    "- A *manifest* is a **description** of a package.\n",
    "\n",
    "- It serves to define dependencies between *packages* and to capture meta information about the *package* like version, maintainer, licenses, etc...\n",
    "\n",
    "## Commonly used commands\n",
    "\n",
    "- *``rospack find [package_name]``* returns the path to package. Other useful commands for *rospack* can be viewed [here](https://docs.ros.org/en/independent/api/rospkg/html/rospack.html).\n",
    "\n",
    "- *``rospack depends1 [package_name]``* finds the **first-order** dependencies of a given package.\n",
    "\n",
    "- *``rospack depends [package_name]``* finds all the nested dependencies of a given package.\n",
    "\n",
    "- *``roscd <package>[/subdir]``* changes directory directly to a package or a subdirectory of a package.\n",
    "\n",
    "- *``roscd log``* changes directory to the folder where ROS stores log files.\n",
    "\n",
    "- *``rosls <package>[/subdir]``* will *ls* directly in a package or a subdirectory of a package."
   ]
  },
  {
   "cell_type": "markdown",
   "id": "6fa5e81a",
   "metadata": {},
   "source": [
    "%%latex\n",
    "\\newpage"
   ]
  },
  {
   "cell_type": "markdown",
   "id": "7b12dd40",
   "metadata": {},
   "source": [
    "# ROS Graph Concepts\n",
    "\n",
    "## Nodes\n",
    "\n",
    "- A node is an executable file within a ROS package. \n",
    "\n",
    "- A node uses ROS to communicate with other nodes.\n",
    "\n",
    "- ROS client libraries allow nodes written in different programming languages to communicate:\n",
    "    - rospy = python client library\n",
    "    - roscpp = python c++ client library\n",
    "\n",
    "## Messages\n",
    "\n",
    "- ROS data type used when subscribing or publishing to a topic.\n",
    "\n",
    "## Topics\n",
    "\n",
    "- Nodes can *publish* messages to a topic as well as *subscribe* to a topic to receive messages.\n",
    "\n",
    "## Services\n",
    "\n",
    "- Another way that nodes can communicate with each other.\n",
    "\n",
    "- Service allow nodes to send a *request* and receive a *response*.\n",
    "\n",
    "## Master\n",
    "\n",
    "- Name service for ROS which helps nodes find each other.\n",
    "\n",
    "## rosout\n",
    "\n",
    "- ROS equivalent of stdout/stderr.\n",
    "\n",
    "## Parameter server\n",
    "\n",
    "- Nodes use parameter to store and retrieve parameters at runtime.\n",
    "\n",
    "- Best used for static, non-binary data such as configuration parameters.\n",
    "\n",
    "## roscore\n",
    "\n",
    "- Master + rosout + parameter server."
   ]
  },
  {
   "cell_type": "markdown",
   "id": "4e8f587d",
   "metadata": {},
   "source": [
    "%%latex\n",
    "\\newpage"
   ]
  },
  {
   "cell_type": "markdown",
   "id": "dc11347f",
   "metadata": {},
   "source": [
    "# ROS Graph Commands\n",
    "\n",
    "For all ros commands, a *``-h``* argument can always be used to see the help documentation about advanced usages.\n",
    "\n",
    "## roscore\n",
    "\n",
    "- *``roscore``* is the **first** thing one should run when using ROS.\n",
    "\n",
    "- Only one roscore can be running.\n",
    "\n",
    "## rosnode\n",
    "\n",
    "- *``rosnode list``* lists the ROS nodes that are currently running.\n",
    "\n",
    "- *``rosnode info [/node_name]``* returns information (publications, subscriptions, services, etc...) about a specific node.\n",
    "\n",
    "## rosrun\n",
    "\n",
    "- *``rosrun [package_name] [node_name]``* run a node from a given package.\n",
    "\n",
    "## rostopic\n",
    "\n",
    "- *``rostopic list -v``* list full details about each topic.\n",
    "\n",
    "- *``rostopic echo [topic]``* shows the data published on a given topic.\n",
    "\n",
    "- *``rostopic type [topic]``* returns the message type of a given topic.\n",
    "\n",
    "- *``rostopic pub [topic] [msg_type] [args]``* publishes data on to a topic currently advertised.\n",
    "\n",
    "- *``rostopic hz [topic]``* reports the rate at which data is published.\n",
    "\n",
    "## rosmsg\n",
    "\n",
    "- *``rosmsg show [msg_type]``* shows the details of a given message.\n",
    "\n",
    "## rossrv\n",
    "\n",
    "- *``rossrc show [service type]``* shows the details of a given service.\n",
    "\n",
    "## rosservice\n",
    "\n",
    "- *``rosservice list``* prints information about active services.\n",
    "\n",
    "- *``rosservice type [service]``* prints the type of a given service.\n",
    "\n",
    "- *``rosservice call [service] [args]``* calls the service with the provided args.\n",
    "\n",
    "## rosparam\n",
    "\n",
    "- *``rosparam list``* list the parameters on the Parameter Server.\n",
    "\n",
    "- *``rosparam set [param_name] [args]``* set the given parameter with provided args.\n",
    "\n",
    "- *``rosparam get [param_name]``* get the values of a given parameter.\n",
    "\n",
    "- *``rosparam get /``* will show the contents of the entire Parameter Server.\n",
    "\n",
    "- *``rosparam dump [file_name] [namespace]``* writes all the parameters to the given file.\n",
    "\n",
    "- *``rosparam load [file_name] [namespace]``* load the parameters to a given namespace from the provided file.\n",
    "\n",
    "## rqt\n",
    "\n",
    "- *``rqt``* will open rqt's the main window.\n",
    "\n",
    "- *``rosrun rqt_graph rqt_graph``* creates a dynamic graph of what's going on in the system.\n",
    "\n",
    "- *``rosrun rqt_plot rqt_plot``* displays a scrolling time plot of the data published on topics."
   ]
  },
  {
   "cell_type": "markdown",
   "id": "713089af",
   "metadata": {},
   "source": [
    "%%latex\n",
    "\\newpage"
   ]
  },
  {
   "cell_type": "markdown",
   "id": "35a0779d",
   "metadata": {},
   "source": [
    "# Customize a ROS package\n",
    "\n",
    "## Basic Structure\n",
    "\n",
    "- The package must contain a catkin compliant **package.xml** file, which provides meta information about the package.\n",
    "\n",
    "- The package must contain a **CMakeLists.txt** which uses catkin.\n",
    "\n",
    "- Each package must have its own folder.\n",
    "\n",
    "- Usually use a catkin workspace to work with catkin packages.\n",
    "\n",
    "## Creating a catkin Package\n",
    "\n",
    "- In the source space of a catkin workspace, use the command *``catkin_create_pkg <package_name> [depend1] [depend2] [depend3] ...``* to initialize a catkin package. Advanced functionalities of *catkin_create_pkg* can be found [here](http://wiki.ros.org/catkin/commands/catkin_create_pkg).\n",
    "\n",
    "## Customize package.xml\n",
    "\n",
    "- **Format**\n",
    "    - *``<package format=\"2\">......</package>``*\n",
    "    \n",
    "- **Name**\n",
    "    - *``<name>package name</name>``*\n",
    "    \n",
    "- **Version**\n",
    "    - *``<version>package version</version>``*\n",
    "\n",
    "- **Description** \n",
    "    - *``<description>Write the descriptions of the package here</description>``*\n",
    "\n",
    "- **Maintainer** \n",
    "    - *``<maintainer email=\"example@example.com\">name</maintainer>``* \n",
    "    - Multiple maintainers are allowed.\n",
    "\n",
    "- **License** \n",
    "    - *``<license>license type<license>``*\n",
    "\n",
    "- **Build Tool Dependencies** \n",
    "    - *``<buildtool_depend>catkin</buildtool_depend>``*\n",
    "    - Specify build system tools which this package needs to build itself. Typically only *catkin* is needed.\n",
    "    \n",
    "- **Build Dependencies:**\n",
    "    - *``<build_depend>package</build_depend>``*\n",
    "    - Specify the packages needed at compile time, such as including headers from the package, linking against libraries from the package or requiring any other resource at build time.\n",
    "\n",
    "- **Build Export Dependencies** \n",
    "    - *``<build_export_depend>package</build_export_depend>``*\n",
    "    - Specify the packages needed to build libraries against this package. Usually used when transitively including the headers in public headers in this package.\n",
    "    \n",
    "- **Execution Dependencies** \n",
    "    - *``<exec_depend>package</exec_depend>``*\n",
    "    - Specify which packages are needed to run code in this package. Usually used when depending on shared libraries in this package.\n",
    "    \n",
    "- **Test Dependencies**\n",
    "    - *``<test_depend>package</test_depend>``*\n",
    "    - Specify only additional dependencies for unit tests.\n",
    "\n",
    "- **Documentation Toll Dependencies**\n",
    "    - *``<doc_depend>package</doc_depend>``*\n",
    "    - Specify documentation tools which this package needs to generate documentation.\n",
    "    \n",
    "- **Dependencies**\n",
    "    - *``<depend>package</depend>``*\n",
    "    - Specify that a dependency is a build, export, and execution dependency.\n",
    "    - The most commonly used dependency tag.\n",
    "    \n",
    "- **Reference**\n",
    "    - For some other advanced tags can be used in **package.xml**, refer to this [website](http://wiki.ros.org/catkin/package.xml#Build.2C_Run.2C_and_Test_Dependencies)\n",
    "    \n",
    "## Customize CMakeLists.txt\n",
    "\n",
    "- **Required CMake Version**\n",
    "    - *``cmake_minumum_required(VERSION 2.8.3)``*\n",
    "    - Catkin requires version 2.8.3 or higher.\n",
    "    \n",
    "- **Package Name**\n",
    "    - *``project(proj_name)``*\n",
    "    - Use the variable *``${PROJECT_NAME}``* to reference this project name in the CMake script\n",
    "\n",
    "- **Finding Dependent CMake Packages**\n",
    "    - *``find_package(catkin REQUIRED COMPONENTS [depend1] [depend2] ...)``*\n",
    "    - If a package is found by CMake through find_package, it results in the creation of several CMake environment variables that give information about the found package.\n",
    "    - For catkin packages, if one *``find_package``* them as components of catkin, this is advantageous as a single set of environment variables is created with the *``catkin_``* prefix.\n",
    "    \n",
    "- **Enable Python module support**\n",
    "    - *``catkin_python_setup()``*\n",
    "    - Required when the package provides some Python modules. In this case, a **setup.py** is also required.\n",
    "    \n",
    "- **Message/Service/Action Generators**\n",
    "    - Messages (.msg), services (.srv), and actions (.action) files in ROS require a special preprocessor build step before being built and used by ROS packages.\n",
    "    - *``add_message_files(FILES [msg1] [msg2] ...)``*\n",
    "    - *``add_service_files(FILES [srv1] [srv2] ...)``*\n",
    "    - *``add_action_files(FILES [action1] [action2] ...)``*\n",
    "    \n",
    "- **Invoke message/service/action generation**\n",
    "    - *``generate_messages(...)``*\n",
    "    -  Required if any message/service/action files are to be built and used by ROS packages.\n",
    "\n",
    "- **Specify package build info export**\n",
    "    - *``catkin_package(...)``*\n",
    "    - Argument *``INCLUDE_DIRS``*: The exported include paths for the package.\n",
    "    - Argument *``LIBRARIES``*: The exported libraries from the project.\n",
    "    - Argument *``CATKIN_DEPENDS``*: Other catkin projects that this project depends on.\n",
    "    - Argument *``DEPENDS``*: Non-catkin CMake projects that this project depends on.\n",
    "    - Argument *``CFG_EXTRAS``*: Additional configuration options.\n",
    "\n",
    "- **Reference**\n",
    "    - Here are only some basic notes for reading a simple **CMakeLists.txt**.\n",
    "    - For detailed information and guides, refer to this [website](http://wiki.ros.org/catkin/CMakeLists.txt)."
   ]
  },
  {
   "cell_type": "markdown",
   "id": "af72f047",
   "metadata": {},
   "source": [
    "%%latex\n",
    "\\newpage"
   ]
  },
  {
   "cell_type": "markdown",
   "id": "85cbf95e",
   "metadata": {},
   "source": [
    "# Customize a ROS msg and srv\n",
    "\n",
    "## msg file\n",
    "\n",
    "- msg files are simple text files that describe the fields of a ROS message. They are used to generate source code for messages in different languages.\n",
    "- msg files are stored in the *msg* directory of a package.\n",
    "- msgs are text files with a field type and field name per line. Available filed types are:\n",
    "    - Header\n",
    "    - int8, int16, int32, int64\n",
    "    - float32, float64\n",
    "    - string\n",
    "    - time, duration\n",
    "    - other msg files\n",
    "    - variable-length array\\[\\] and fixed-length array\\[C\\]\n",
    "- Header is a special type in ROS, which contains a timestamp and coordinate frame information that are commonly used in ROS.\n",
    "\n",
    "## srv file\n",
    "- An srv file describes a service. It is composed of two parts: a request and a response.\n",
    "- srv files are stored in the *srv* directory of a package.\n",
    "- srv files are similar to msg files, except they contain two parts: a request and a response. The two parts are separated by a '---' line.\n",
    "    - The request part is above the '---' line.\n",
    "    - The response part is below the '---' line.\n",
    "\n",
    "## Create a msg\n",
    "\n",
    "### Write the definition\n",
    "\n",
    "- The first step is to create a file in the form 'Msg_Name.msg' in the *msg* directory and write the field types and field names.\n",
    "\n",
    "### Edit the package.xml to set up dependencies\n",
    "\n",
    "- To make sure the msg files are turned into source code for C++, Python, and other languages, edit **package.xml** to add a build dependency on **message_generation** and a execution dependency on **message_runtime**.\n",
    "\n",
    "### Edit CMakeLists.txt correspondingly\n",
    "\n",
    "- Similarly, add the **message_generation** dependency to the *``find_package()``* call in the **CMakeLists.txt** to generate messages. Usually, simply adding **message_generation** to the list of *COMPONENTS* works.\n",
    "- Also make sure to export the **message_runtime** dependency by adding it to the *``catkin_package()``* call in the argument *``CATKIN_DEPENDS``*\n",
    "- Uncomment the block of codes *``add_message_files(FILES [msg1] [msg2] ...)``* and fill in the custom msg filenames so that CMake knows when it has to reconfigure reconfigure the project after you add other .msg files.\n",
    "- Uncomment the block of codes *``generate_messages(DEPENDENCIES [depend_msg1] [depend_msg2] ...)``* and fill in any msgs the custom msg file depends on.\n",
    "\n",
    "### Make the package again\n",
    "\n",
    "- Change directory to the source space and execute *``catkin_make``* command. Any .msg file in the *msg* directory will generate code for use in all supported languages. \n",
    "\n",
    "## Create a srv\n",
    "\n",
    "### Write the definition\n",
    "\n",
    "- The first step is to create a file in the form 'Service_Name.srv' in the *srv* directory and write the field types and field names. \n",
    "- Remember a srv file has a request part and a response part divided by a '---' line.\n",
    "- One cannot embed another .srv inside of a .srv like writing msg files.\n",
    "\n",
    "### Edit the package.xml to set up dependencies\n",
    "\n",
    "- To make sure the msg files are turned into source code for C++, Python, and other languages, edit **package.xml** to add a build dependency on **message_generation** and a execution dependency on **message_runtime**.\n",
    "- This step is exactly the same as what is needed for creating a msg file and do not need to be repeated if has been done.\n",
    "\n",
    "### Edit CMakeLists.txt correspondingly\n",
    "\n",
    "- Similarly, add the **message_generation** dependency to the *``find_package()``* call in the **CMakeLists.txt** to generate messages. Usually, simply adding **message_generation** to the list of *COMPONENTS* works. Despite its name, **message_generation** works for both msg and srv.\n",
    "- Also make sure to export the **message_runtime** dependency by adding it to the *``catkin_package()``* call in the argument *``CATKIN_DEPENDS``*\n",
    "- Uncomment the block of codes *``add_service_files(FILES [srv1] [srv2] ...)``* and fill in the custom srv filenames.\n",
    "- Uncomment the block of codes *``generate_messages(DEPENDENCIES [depend_msg1] [depend_msg2] ...)``* and fill in any msgs the custom srv file depends on.\n",
    "\n",
    "### Make the package again\n",
    "\n",
    "- Change directory to the source space and execute *``catkin_make``* command. Any .srv file in the *srv* directory will generate code for use in all supported languages. "
   ]
  },
  {
   "cell_type": "markdown",
   "id": "cf0325e0",
   "metadata": {},
   "source": [
    "%%latex \\newpage"
   ]
  },
  {
   "cell_type": "markdown",
   "id": "194781a2",
   "metadata": {},
   "source": [
    "# rospy\n",
    "\n",
    "## Initialization\n",
    "\n",
    "### Python Script Declaration"
   ]
  },
  {
   "cell_type": "code",
   "execution_count": null,
   "id": "f0fbfaaa",
   "metadata": {},
   "outputs": [],
   "source": [
    "#!/usr/bin/env python"
   ]
  },
  {
   "cell_type": "markdown",
   "id": "722438ab",
   "metadata": {},
   "source": [
    "- This first line makes sure the script is executed as a Python script.\n",
    "\n",
    "### Initialize a ROS Node"
   ]
  },
  {
   "cell_type": "code",
   "execution_count": null,
   "id": "de4be6aa",
   "metadata": {},
   "outputs": [],
   "source": [
    "rospy.init_node('node_name')"
   ]
  },
  {
   "cell_type": "markdown",
   "id": "ef546ae1",
   "metadata": {},
   "source": [
    "- When no arguments are provided, the node name must be **unique**.\n",
    "- Argument *``anonymous = True``* can be used  if one does not care about the unique name of one node.\n",
    "- Argument *``log_level=rospy.INFO``* can be used to edit the log level for publishing log messages to *rosout*.\n",
    "- Argument *``disable_signals = True``* can be used if one does not want the node end on *``Ctrl-C``*.\n",
    "\n",
    "### Accessing command-line arguments"
   ]
  },
  {
   "cell_type": "code",
   "execution_count": null,
   "id": "5d70b288",
   "metadata": {},
   "outputs": [],
   "source": [
    "rospy.myargv(argv=sys.argv)"
   ]
  },
  {
   "cell_type": "markdown",
   "id": "4ab44b37",
   "metadata": {},
   "source": [
    "- Returns a copy of *sys.argv* with remapping arguments removed.\n",
    "\n",
    "### Shutting down\n",
    "\n",
    "- The most common usage is:"
   ]
  },
  {
   "cell_type": "code",
   "execution_count": null,
   "id": "60fe8ccb",
   "metadata": {},
   "outputs": [],
   "source": [
    "while not rospy.is_shutdown():\n",
    "    do some work"
   ]
  },
  {
   "cell_type": "markdown",
   "id": "bb8c7b88",
   "metadata": {},
   "source": [
    "- Another way is to use *``rospy.spin()``* make the node sleep until the *``is_shutdown()``* flag is *``True``*."
   ]
  },
  {
   "cell_type": "code",
   "execution_count": null,
   "id": "12c7cfc6",
   "metadata": {},
   "outputs": [],
   "source": [
    "... setup callbacks\n",
    "rospy.spin()"
   ]
  },
  {
   "cell_type": "markdown",
   "id": "b82a05e5",
   "metadata": {},
   "source": [
    "### ROS Rate\n",
    "\n",
    "- rospy.Rate() is a class which helps conveniently maintaining a particular rate for a loop."
   ]
  },
  {
   "cell_type": "code",
   "execution_count": null,
   "id": "421530ae",
   "metadata": {},
   "outputs": [],
   "source": [
    "rate = rospy.Rate(10) #10Hz\n",
    "while not rospy.is_shutdown():\n",
    "    do some work\n",
    "    rate.sleep()"
   ]
  },
  {
   "cell_type": "markdown",
   "id": "1bc34ff4",
   "metadata": {},
   "source": [
    "## Message\n",
    "\n",
    "### Message generation\n",
    "\n",
    "- The .msg files are coded into python classes and need to be imported."
   ]
  },
  {
   "cell_type": "code",
   "execution_count": null,
   "id": "447b7738",
   "metadata": {},
   "outputs": [],
   "source": [
    "# There are two ways of importing\n",
    "import std_msgs.msg\n",
    "from std_msgs.msg import String"
   ]
  },
  {
   "cell_type": "markdown",
   "id": "2f86096b",
   "metadata": {},
   "source": [
    "### Message initialization\n",
    "\n",
    "- **No arguments**"
   ]
  },
  {
   "cell_type": "code",
   "execution_count": null,
   "id": "5ff4e8b7",
   "metadata": {},
   "outputs": [],
   "source": [
    "msg = std_msgs.msg.String()\n",
    "msg.data = \"hello world\""
   ]
  },
  {
   "cell_type": "markdown",
   "id": "1adf8ba2",
   "metadata": {},
   "source": [
    "- **In-order arguments(\\*args)**\n",
    "    - In this case, a value for all of the fields must be provided, in order."
   ]
  },
  {
   "cell_type": "code",
   "execution_count": null,
   "id": "b2790b6a",
   "metadata": {},
   "outputs": [],
   "source": [
    "msg = std_msgs.msg.ColorRGBA(255.0, 255.0, 255.0, 128.0)"
   ]
  },
  {
   "cell_type": "markdown",
   "id": "6735ca72",
   "metadata": {},
   "source": [
    "- **Keyword arguments(\\*\\*kwds)**\n",
    "    - In this case, only the fields that values of which are provided will be initialized while the rest receive default values."
   ]
  },
  {
   "cell_type": "code",
   "execution_count": null,
   "id": "e454e868",
   "metadata": {},
   "outputs": [],
   "source": [
    "msg = std_msgs.msg.ColorRGBA(b=255.0)"
   ]
  },
  {
   "cell_type": "markdown",
   "id": "6e8b5024",
   "metadata": {},
   "source": [
    "## Publishers and Subscribers\n",
    "\n",
    "### Publisher Initialization\n",
    "\n",
    "- The only requirements to create a rospy.Publisher are the topic name, the Message class and the queue size."
   ]
  },
  {
   "cell_type": "code",
   "execution_count": null,
   "id": "dd133b70",
   "metadata": {},
   "outputs": [],
   "source": [
    "pub = rospy.Publisher('topic_name', std_msgs.msg.String, queue_size=10)"
   ]
  },
  {
   "cell_type": "markdown",
   "id": "241aabd0",
   "metadata": {},
   "source": [
    "### Use a Publisher to publish\n",
    "\n",
    "- **Explicit Style**"
   ]
  },
  {
   "cell_type": "code",
   "execution_count": null,
   "id": "03b9e0f6",
   "metadata": {},
   "outputs": [],
   "source": [
    "pub.publish(std_msgs.msg.String(\"hello world\"))"
   ]
  },
  {
   "cell_type": "markdown",
   "id": "0d0be0ed",
   "metadata": {},
   "source": [
    "- **Implicit style with in-order arguments**\n",
    "    - In this case, a value for all of the fields must be provided, in order."
   ]
  },
  {
   "cell_type": "code",
   "execution_count": null,
   "id": "4e8d4e81",
   "metadata": {},
   "outputs": [],
   "source": [
    "pub.publish(255.0, 255.0, 255.0, 128.0)"
   ]
  },
  {
   "cell_type": "markdown",
   "id": "93876947",
   "metadata": {},
   "source": [
    "- **Implicit style with keyword arguments**\n",
    "    - In this case, only the fields that values of which are provided will be initialized while the rest receive default values."
   ]
  },
  {
   "cell_type": "code",
   "execution_count": null,
   "id": "7cd84ecb",
   "metadata": {},
   "outputs": [],
   "source": [
    "pub.publish(b=255)"
   ]
  },
  {
   "cell_type": "markdown",
   "id": "c47c5384",
   "metadata": {},
   "source": [
    "### queue_size behavior and queuing\n",
    "\n",
    "- *``publish()``* in rospy is **synchronous** by default\n",
    "- To use **asynchronous** publishing behavior, the keyword argument *``queue_size``* must be passed to *``subscribe``* which defines the maximum queue size before messages are being dropped.\n",
    "- This asynchronous behavior ensures that only the subscribers having connectivity problems will not receive new messages.\n",
    "\n",
    "### Selecting a good queue_size\n",
    "\n",
    "- It is recommended to pick a value which is bigger than it needs to be rather than a too small value.\n",
    "- Selecting the queue size should take the loop rate into consideration.\n",
    "- Setting the *queue_size* to be 1 is a good choice when only the latest published information is wanted.\n",
    "- Setting the *queue_size* to be 10 or greater is a good choice when any changes in value are wanted and need to be recorded.\n",
    "\n",
    "### Use a subscriber\n",
    "\n",
    "- Use subscriber to subscribe to a given topic with desired message type. The received messages would be the first argument of the callback function."
   ]
  },
  {
   "cell_type": "code",
   "execution_count": null,
   "id": "ef7943be",
   "metadata": {},
   "outputs": [],
   "source": [
    "def callback(data):\n",
    "    do some work to received data\n",
    "\n",
    "rospy.Subscriber(\"topic_name\", msg_type, callback)"
   ]
  },
  {
   "cell_type": "markdown",
   "id": "1648953b",
   "metadata": {},
   "source": [
    "## Service and Client\n",
    "\n",
    "For detailed information, refer to the [ROS wiki](http://wiki.ros.org/rospy/Overview/Services).\n",
    "\n",
    "### Service definitions, request messages, and response messages\n",
    "\n",
    "- rospy converts .srv files into Python source code and creates three classes. If the .srv file is *``package/srv/Service1.srv``*, then the classes would be:\n",
    "    - Service Definitions *``package.srv.Service1``*\n",
    "    - Request Messages *``package.srv.Service1Request``*\n",
    "    - Response Messages *``package.srv.Service1Response``*\n",
    "- Service Definition \n",
    "    - A container for the request and response type.\n",
    "    - Must be used whenever one create or call a service.\n",
    "- Service Request Messages\n",
    "    - The request message is used to call the appropriate service.\n",
    "    - Typically one does not need to use the request message directly.\n",
    "- Service Response Messages\n",
    "    - The response message is used to contain the return value from the appropriate service.\n",
    "    - Service handlers must return response messages instances of the correct type.\n",
    "    \n",
    "### Client Node: Calling services\n",
    "\n",
    "**Service proxies**\n",
    "\n",
    "- In ROS, call a service by creating a *``rospy.ServiceProxy``* instance with the name of the service to be called.\n",
    "    - The instance is callable and can be invoked like methods.\n",
    "- Before creating a proxy, one often will want to block until the service is available.\n",
    "\n",
    "**Exceptions**\n",
    "\n",
    "- If a service returns an error for the request, a *``rospy.ServiceException``* will be raised. The exception would contain any error messages that the service sent.\n",
    "    - *``TypeError``*: Request is not of the valid type.\n",
    "    - *``ServiceException``*: Communication with remote service failed.\n",
    "    - *``ROSSerializationException``*: This usually indicates a type error with one of the fields."
   ]
  },
  {
   "cell_type": "code",
   "execution_count": null,
   "id": "a4e3b023",
   "metadata": {},
   "outputs": [],
   "source": [
    "rospy.wait_for_service(\"service_name\", timeout=None)\n",
    "proxy = rospy.ServiceProxy(\"service_name\", service_class, persistent=False, headers=None)\n",
    "try:\n",
    "    response = proxy(request_message_data)\n",
    "except rospy.ServiceException as exc:\n",
    "    print(\"Service did not process request: \" + str(exc))"
   ]
  },
  {
   "cell_type": "markdown",
   "id": "cb8a2734",
   "metadata": {},
   "source": [
    "**Explicit style**\n",
    "\n",
    "- Create the *\\*Request* instance and pass it to proxy"
   ]
  },
  {
   "cell_type": "code",
   "execution_count": null,
   "id": "ca25eb49",
   "metadata": {},
   "outputs": [],
   "source": [
    "request = package.srv.Service1Request(request_message_data)\n",
    "response = proxy(request)"
   ]
  },
  {
   "cell_type": "markdown",
   "id": "5c660fb9",
   "metadata": {},
   "source": [
    "**Implicit style with in-order arguments**\n",
    "- In the in-order style, a new Message instance will be created with the arguments provided, in order.\n",
    "- In this case, a value for all of the fields must be provided, in order."
   ]
  },
  {
   "cell_type": "code",
   "execution_count": null,
   "id": "5ec375e5",
   "metadata": {},
   "outputs": [],
   "source": [
    "response = proxy(request_message_data)"
   ]
  },
  {
   "cell_type": "markdown",
   "id": "3d374f1d",
   "metadata": {},
   "source": [
    "**Implicit style with keyword arguments**\n",
    "\n",
    "- In this case, only the fields that values of which are provided will be initialized while the rest receive default values."
   ]
  },
  {
   "cell_type": "code",
   "execution_count": null,
   "id": "75625e3b",
   "metadata": {},
   "outputs": [],
   "source": [
    "response = proxy(arg1 = ...)"
   ]
  },
  {
   "cell_type": "markdown",
   "id": "d50cb749",
   "metadata": {},
   "source": [
    "**Persistent connections**\n",
    "\n",
    "- With a persistent connection, a client stays connected to a service. Otherwise, a client normally does a lookup and reconnects to a service each time.\n",
    "- A persistent connection greatly improve performance for repeated requests while also makes the client more fragile to service failures.\n",
    "- Clients using persistent connections should implement their own reconnection logic in the event that the persistent connection fails.\n",
    "\n",
    "### Service Node: Providing services\n",
    "\n",
    "***``rospy.Service``* instance**\n",
    "\n",
    "- In ROS, provide a Service by creating a *``rospy.Service``* instance with a callback to invoke when new requests are received.\n",
    "- Each inbound request is handled in its own thread, so services must be thread-safe.\n",
    "- Remember to return some data according to the definition of *``package.srv.Service1Response``*."
   ]
  },
  {
   "cell_type": "code",
   "execution_count": null,
   "id": "e557d581",
   "metadata": {},
   "outputs": [],
   "source": [
    "def handler(request_messsage_data):\n",
    "    response to income requests\n",
    "    \n",
    "def Service1_server():\n",
    "    rospy.init_node(\"Service1_server\")\n",
    "    server = rospy.Service(\"service_name\", service_class, handler, buff_size=65536)\n",
    "    rospy.spin()"
   ]
  }
 ],
 "metadata": {
  "kernelspec": {
   "display_name": "Python 3 (ipykernel)",
   "language": "python",
   "name": "python3"
  },
  "language_info": {
   "codemirror_mode": {
    "name": "ipython",
    "version": 3
   },
   "file_extension": ".py",
   "mimetype": "text/x-python",
   "name": "python",
   "nbconvert_exporter": "python",
   "pygments_lexer": "ipython3",
   "version": "3.8.11"
  },
  "toc": {
   "base_numbering": 1,
   "nav_menu": {},
   "number_sections": true,
   "sideBar": true,
   "skip_h1_title": false,
   "title_cell": "Table of Contents",
   "title_sidebar": "Contents",
   "toc_cell": false,
   "toc_position": {},
   "toc_section_display": true,
   "toc_window_display": false
  },
  "varInspector": {
   "cols": {
    "lenName": 16,
    "lenType": 16,
    "lenVar": 40
   },
   "kernels_config": {
    "python": {
     "delete_cmd_postfix": "",
     "delete_cmd_prefix": "del ",
     "library": "var_list.py",
     "varRefreshCmd": "print(var_dic_list())"
    },
    "r": {
     "delete_cmd_postfix": ") ",
     "delete_cmd_prefix": "rm(",
     "library": "var_list.r",
     "varRefreshCmd": "cat(var_dic_list()) "
    }
   },
   "types_to_exclude": [
    "module",
    "function",
    "builtin_function_or_method",
    "instance",
    "_Feature"
   ],
   "window_display": false
  }
 },
 "nbformat": 4,
 "nbformat_minor": 5
}
