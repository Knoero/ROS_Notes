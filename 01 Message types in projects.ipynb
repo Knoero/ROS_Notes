{
 "cells": [
  {
   "cell_type": "markdown",
   "id": "5020f372",
   "metadata": {},
   "source": [
    "**Information:** A collection of the message types used in my projects for quick reference.\n",
    "\n",
    "**Written by:** Zihao Xu\n",
    "\n",
    "**Last update date:** September.22.2021"
   ]
  },
  {
   "cell_type": "markdown",
   "id": "552b334e",
   "metadata": {},
   "source": [
    "# geometry_msgs"
   ]
  },
  {
   "cell_type": "markdown",
   "id": "4cdbcd76",
   "metadata": {},
   "source": [
    "**``geometry_msgs/Point.msg``**\n",
    "\n",
    "| Type | Name |\n",
    "| :---- | :---- |\n",
    "| *float64* | x |\n",
    "| *float64* | y |\n",
    "| *float64* | z |\n",
    "\n",
    "- Represents the **position** of a point in free space"
   ]
  },
  {
   "cell_type": "markdown",
   "id": "96a13db5",
   "metadata": {},
   "source": [
    "**``geometry_msgs/Quaternion.msg``**\n",
    "\n",
    "| Type | Name |\n",
    "| :---- | :---- |\n",
    "| *float64* | x |\n",
    "| *float64* | y |\n",
    "| *float64* | z |\n",
    "| *float64* | w |\n",
    "\n",
    "- Represents an **orientation** in free space in **[quaternion](https://en.wikipedia.org/wiki/Quaternion)** form\n",
    "- In short, unit quaternions provide a convenient (though not intuitive) mathematical notation for representing spatial orientations and rotations of elements in three dimensional space\n",
    "- For detailed information, one available reference is the wikipedia taking about *[Quaternions and spatial rotation](https://en.wikipedia.org/wiki/Quaternions_and_spatial_rotation)*"
   ]
  },
  {
   "cell_type": "markdown",
   "id": "10c3cfcd",
   "metadata": {},
   "source": [
    "%%latex\n",
    "\\newpage"
   ]
  },
  {
   "cell_type": "markdown",
   "id": "8c860ebc",
   "metadata": {},
   "source": [
    "**``geometry_msgs/Pose.msg``**\n",
    "\n",
    "| Type | Name |\n",
    "| :---- | :---- |\n",
    "| *geometry_msgs/Point* | position |\n",
    "| *geometry_msgs/Quaternion* | orientation |\n",
    "\n",
    "- A representation of **pose** in free space, composed of position and orientation"
   ]
  },
  {
   "cell_type": "markdown",
   "id": "16c95018",
   "metadata": {},
   "source": [
    "**``geometry_msgs/PoseWithCovariance.msg``**\n",
    "\n",
    "| Type | Name |\n",
    "| :---- | :---- |\n",
    "| *geometry_msgs/Pose* | pose |\n",
    "| *float64\\[36\\]* | covariance |\n",
    "\n",
    "- Represent the **pose** in free space **with uncertainty**\n",
    "- The $6 \\times 6$ **covariance matrix** is represented in row-major form\n",
    "- Use a fixed-axis representation for the orientation\n",
    "- In order, the parameters are $$\\left(x,y,z,R,P,Y\\right)$$ \n",
    "    - $R$ stands for *rolling*, meaning the rotation about X axis\n",
    "    - $P$ stands for *pitching*, meaning the rotation about Y axis\n",
    "    - $Y$ stands for *yawing*, meaning the rotation about Z axis"
   ]
  },
  {
   "cell_type": "markdown",
   "id": "6ceec53f",
   "metadata": {},
   "source": [
    "**``geometry_msgs/Vector3.msg``**\n",
    "\n",
    "| Type | Name |\n",
    "| :---- | :---- |\n",
    "| *float64* | x |\n",
    "| *float64* | y |\n",
    "| *float64* | z |\n",
    "\n",
    "- Represents a vector in free space\n",
    "- It is only meant to represent a **direction**\n",
    "- It does make sense to apply a translation to it\n",
    "    - When applying a generic rigid transformation to a *Vector3*, only the rotation will be applied"
   ]
  },
  {
   "cell_type": "markdown",
   "id": "8402d969",
   "metadata": {},
   "source": [
    "**``geometry_msgs/Twist.msg``**\n",
    "\n",
    "| Type | Name |\n",
    "| :---- | :---- |\n",
    "| *geometry_msgs/Vector3* | linear |\n",
    "| *geometry_msgs/Vector3* | angular |\n",
    "\n",
    "- Expresses **velocity** in free space broken into its linear and angular parts"
   ]
  },
  {
   "cell_type": "markdown",
   "id": "7a529ac6",
   "metadata": {},
   "source": [
    "%%latex\n",
    "\\newpage"
   ]
  },
  {
   "cell_type": "markdown",
   "id": "c9924945",
   "metadata": {},
   "source": [
    "**``geometry_msgs/TwistWithCovariance.msg``**\n",
    "\n",
    "| Type | Name |\n",
    "| :---- | :---- |\n",
    "| *geometry_msgs/Twist* | twist |\n",
    "| *float64\\[36\\]* | covariance |\n",
    "\n",
    "- Represent the **velocity** in free space **with uncertainty**\n",
    "- The $6 \\times 6$ **covariance matrix** is represented in row-major form\n",
    "- Use a fixed-axis representation for the orientation\n",
    "- In order, the parameters are $$\\left(x,y,z,R,P,Y\\right)$$ \n",
    "    - $R$ stands for *rolling*, meaning the rotation about X axis\n",
    "    - $P$ stands for *pitching*, meaning the rotation about Y axis\n",
    "    - $Y$ stands for *yawing*, meaning the rotation about Z axis"
   ]
  },
  {
   "cell_type": "markdown",
   "id": "cfe9ac22",
   "metadata": {},
   "source": [
    "**``geometry_msgs/Transform.msg``**\n",
    "\n",
    "| Type | Name |\n",
    "| :---- | :---- |\n",
    "| *geometry_msgs/Vector3* | translation |\n",
    "| *geometry_msgs/Quaternion* | rotation |\n",
    "\n",
    "- Represent the transform between **two coordinate frames** in free space"
   ]
  },
  {
   "cell_type": "markdown",
   "id": "a3b6121b",
   "metadata": {},
   "source": [
    "%%latex\n",
    "\\newpage"
   ]
  },
  {
   "cell_type": "markdown",
   "id": "4fe9eeb9",
   "metadata": {},
   "source": [
    "# trajectory_msgs"
   ]
  },
  {
   "cell_type": "markdown",
   "id": "c828a7dc",
   "metadata": {},
   "source": [
    "**``trajectory_msgs/MultiDOFJointTrajectoryPoint.msg``**\n",
    "\n",
    "| Type | Name |\n",
    "| :---- | :---- |\n",
    "| *geometry_msgs/Transform\\[ \\]* | transforms |\n",
    "| *geometry_msgs/Twist\\[ \\]* | velocities |\n",
    "| *geometry_msgs/Twist\\[ \\]* | *accelerations* |\n",
    "| duration | time_from_start |\n",
    "\n",
    "- Represent a fully defined state point for a **multi-joint robot**, including **positions, velocities and accelerations** for for all joints\n",
    "- *``transforms``*: Each multi-dof joint can specify a transform (up to 6 DOF)\n",
    "- *``velocities``*: There can be a velocity specified for the origin of the joint\n",
    "- *``accelerations``*: There can be an acceleration specified for the origin of the joint"
   ]
  },
  {
   "cell_type": "markdown",
   "id": "b081251c",
   "metadata": {},
   "source": [
    "**``trajectory_msgs/MultiDOFJointTrajectory.msg``**\n",
    "\n",
    "| Type | Name |\n",
    "| :---- | :---- |\n",
    "| *std_msgs/Header* | header |\n",
    "| *string\\[ \\]* | joint_names |\n",
    "| *trajectory_msgs/MultiDOFJointTrajectoryPoint\\[ \\]* | points |\n",
    "\n",
    "- The *``header``* is used to specify the coordinate frame and the reference time for the trajectory durations\n",
    "- Use a series of fully defined state points to specify a **multi-dof joint trajectory**\n",
    "- The order and length of every point must be same as the order of length as the *``joint_names``* array"
   ]
  },
  {
   "cell_type": "markdown",
   "id": "7f89cec3",
   "metadata": {},
   "source": [
    "%%latex\n",
    "\\newpage"
   ]
  },
  {
   "cell_type": "markdown",
   "id": "e63ff82e",
   "metadata": {},
   "source": [
    "# Others"
   ]
  },
  {
   "cell_type": "markdown",
   "id": "9359805a",
   "metadata": {},
   "source": [
    "**``std_msgs/Header.msg``**\n",
    "\n",
    "| Type | Name |\n",
    "| :---- | :---- |\n",
    "| *uint32* | seq |\n",
    "| *time* | stamp |\n",
    "| *string* | *frame_id* |\n",
    "\n",
    "- Generally used to communicate **timestamped** data in a **particular coordinate frame**\n",
    "- *``seq``*: Sequence ID, consecutively increasing ID\n",
    "- *``stamp``*: Two-integer timestamp that is expressed s:\n",
    "    - *``stamp.secs``*: seconds (stamp secs) since epoch\n",
    "    - *``stamp.nsecs``*: nanoseconds since stamp_secs\n",
    "- *``frame_id``*: Frame this data is associated with"
   ]
  },
  {
   "cell_type": "markdown",
   "id": "685de5a0",
   "metadata": {},
   "source": [
    "**``nav_msgs.msg.Odometry``**\n",
    "\n",
    "| Type | Name |\n",
    "| :----------------------- | :--------------- |\n",
    "| *std_msgs/Header* | header |\n",
    "| *string* | child_frame_id |\n",
    "| *geometry_msgs/PoseWithCovariance* | pose |\n",
    "| *geometry_msgs/TwistWithCovariance* | twist |\n",
    "\n",
    "- Represents an **estimate** of a **position and velocity** in free space\n",
    "- *``pose``* should be specified in the coordinate frame given by *``header.frame_id``*\n",
    "- *``twist``* should be specified in the coordinate frame given by the *``child_frame_id``*"
   ]
  }
 ],
 "metadata": {
  "kernelspec": {
   "display_name": "Python 3 (ipykernel)",
   "language": "python",
   "name": "python3"
  },
  "language_info": {
   "codemirror_mode": {
    "name": "ipython",
    "version": 3
   },
   "file_extension": ".py",
   "mimetype": "text/x-python",
   "name": "python",
   "nbconvert_exporter": "python",
   "pygments_lexer": "ipython3",
   "version": "3.8.11"
  },
  "toc": {
   "base_numbering": 1,
   "nav_menu": {},
   "number_sections": true,
   "sideBar": true,
   "skip_h1_title": false,
   "title_cell": "Table of Contents",
   "title_sidebar": "Contents",
   "toc_cell": false,
   "toc_position": {},
   "toc_section_display": true,
   "toc_window_display": false
  },
  "varInspector": {
   "cols": {
    "lenName": 16,
    "lenType": 16,
    "lenVar": 40
   },
   "kernels_config": {
    "python": {
     "delete_cmd_postfix": "",
     "delete_cmd_prefix": "del ",
     "library": "var_list.py",
     "varRefreshCmd": "print(var_dic_list())"
    },
    "r": {
     "delete_cmd_postfix": ") ",
     "delete_cmd_prefix": "rm(",
     "library": "var_list.r",
     "varRefreshCmd": "cat(var_dic_list()) "
    }
   },
   "types_to_exclude": [
    "module",
    "function",
    "builtin_function_or_method",
    "instance",
    "_Feature"
   ],
   "window_display": false
  }
 },
 "nbformat": 4,
 "nbformat_minor": 5
}
