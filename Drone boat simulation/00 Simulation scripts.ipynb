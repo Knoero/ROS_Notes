{
 "cells": [
  {
   "cell_type": "markdown",
   "id": "e0159b1f",
   "metadata": {},
   "source": [
    "**Information:** *Reading notes for follow_waypoints.py and a brief summary for past and future work in the drone boat simulation project*\n",
    "\n",
    "**Written by:** *Zihao Xu*\n",
    "\n",
    "**Last update date:** *06.22.2021*"
   ]
  },
  {
   "cell_type": "markdown",
   "id": "d009b22e",
   "metadata": {},
   "source": [
    "# follow_waypoints.py\n",
    "\n",
    "## Import\n",
    "\n",
    "### Message types embedded in ROS\n",
    "Here are the basic message types, which are not directly imported but are used by several higher-level message types\n",
    "\n",
    "**``geometry_msgs/Point.msg``**\n",
    "\n",
    "| Type | Name |\n",
    "| :---- | :---- |\n",
    "| *float64* | x |\n",
    "| *float64* | y |\n",
    "| *float64* | z |\n",
    "\n",
    "- Represents the **position** of a point in free space"
   ]
  },
  {
   "cell_type": "markdown",
   "id": "4df1b942",
   "metadata": {},
   "source": [
    "**``geometry_msgs/Quaternion.msg``**\n",
    "\n",
    "| Type | Name |\n",
    "| :---- | :---- |\n",
    "| *float64* | x |\n",
    "| *float64* | y |\n",
    "| *float64* | z |\n",
    "| *float64* | w |\n",
    "\n",
    "- Represents an **orientation** in free space in **[quaternion](https://en.wikipedia.org/wiki/Quaternion)** form\n",
    "- In short, unit quaternions provide a convenient (though not intuitive) mathematical notation for representing spatial orientations and rotations of elements in three dimensional space\n",
    "- For detailed information, one available reference is the wikipedia taking about *[Quaternions and spatial rotation](https://en.wikipedia.org/wiki/Quaternions_and_spatial_rotation)*"
   ]
  },
  {
   "cell_type": "markdown",
   "id": "42efe93f",
   "metadata": {},
   "source": [
    "**``geometry_msgs/Pose.msg``**\n",
    "\n",
    "| Type | Name |\n",
    "| :---- | :---- |\n",
    "| *geometry_msgs/Point* | position |\n",
    "| *geometry_msgs/Quaternion* | orientation |\n",
    "\n",
    "- A representation of **pose** in free space, composed of position and orientation"
   ]
  },
  {
   "cell_type": "markdown",
   "id": "2aa591dd",
   "metadata": {},
   "source": [
    "**``geometry_msgs/PoseWithCovariance.msg``**\n",
    "\n",
    "| Type | Name |\n",
    "| :---- | :---- |\n",
    "| *geometry_msgs/Pose* | pose |\n",
    "| *float64\\[36\\]* | covariance |\n",
    "\n",
    "- Represent the **pose** in free space **with uncertainty**\n",
    "- The $6 \\times 6$ **covariance matrix** is represented in row-major form\n",
    "- Use a fixed-axis representation for the orientation\n",
    "- In order, the parameters are $$\\left(x,y,z,R,P,Y\\right)$$ \n",
    "    - $R$ stands for *rolling*, meaning the rotation about X axis\n",
    "    - $P$ stands for *pitching*, meaning the rotation about Y axis\n",
    "    - $Y$ stands for *yawing*, meaning the rotation about Z axis"
   ]
  },
  {
   "cell_type": "markdown",
   "id": "e06ca950",
   "metadata": {},
   "source": [
    "**``geometry_msgs/Vector3.msg``**\n",
    "\n",
    "| Type | Name |\n",
    "| :---- | :---- |\n",
    "| *float64* | x |\n",
    "| *float64* | y |\n",
    "| *float64* | z |\n",
    "\n",
    "- Represents a vector in free space\n",
    "- It is only meant to represent a **direction**\n",
    "- It does make sense to apply a translation to it\n",
    "    - When applying a generic rigid transformation to a *Vector3*, only the rotation will be applied"
   ]
  },
  {
   "cell_type": "markdown",
   "id": "1ca2d112",
   "metadata": {},
   "source": [
    "**``geometry_msgs/Twist.msg``**\n",
    "\n",
    "| Type | Name |\n",
    "| :---- | :---- |\n",
    "| *geometry_msgs/Vector3* | linear |\n",
    "| *geometry_msgs/Vector3* | angular |\n",
    "\n",
    "- Expresses **velocity** in free space broken into its linear and angular parts"
   ]
  },
  {
   "cell_type": "markdown",
   "id": "1cf73ec4",
   "metadata": {},
   "source": [
    "**``geometry_msgs/TwistWithCovariance.msg``**\n",
    "\n",
    "| Type | Name |\n",
    "| :---- | :---- |\n",
    "| *geometry_msgs/Twist* | twist |\n",
    "| *float64\\[36\\]* | covariance |\n",
    "\n",
    "- Represent the **velocity** in free space **with uncertainty**\n",
    "- The $6 \\times 6$ **covariance matrix** is represented in row-major form\n",
    "- Use a fixed-axis representation for the orientation\n",
    "- In order, the parameters are $$\\left(x,y,z,R,P,Y\\right)$$ \n",
    "    - $R$ stands for *rolling*, meaning the rotation about X axis\n",
    "    - $P$ stands for *pitching*, meaning the rotation about Y axis\n",
    "    - $Y$ stands for *yawing*, meaning the rotation about Z axis"
   ]
  },
  {
   "cell_type": "markdown",
   "id": "b191d721",
   "metadata": {},
   "source": [
    "**``geometry_msgs/Transform.msg``**\n",
    "\n",
    "| Type | Name |\n",
    "| :---- | :---- |\n",
    "| *geometry_msgs/Vector3* | translation |\n",
    "| *geometry_msgs/Quaternion* | rotation |\n",
    "\n",
    "- Represent the transform between **two coordinate frames** in free space"
   ]
  },
  {
   "cell_type": "markdown",
   "id": "eca521f3",
   "metadata": {},
   "source": [
    "**``std_msgs/Header.msg``**\n",
    "\n",
    "| Type | Name |\n",
    "| :---- | :---- |\n",
    "| *uint32* | seq |\n",
    "| *time* | stamp |\n",
    "| *string* | *frame_id* |\n",
    "\n",
    "- Generally used to communicate **timestamped** data in a **particular coordinate frame**\n",
    "- *``seq``*: Sequence ID, consecutively increasing ID\n",
    "- *``stamp``*: Two-integer timestamp that is expressed s:\n",
    "    - *``stamp.secs``*: seconds (stamp secs) since epoch\n",
    "    - *``stamp.nsecs``*: nanoseconds since stamp_secs\n",
    "- *``frame_id``*: Frame this data is associated with"
   ]
  },
  {
   "cell_type": "markdown",
   "id": "bca786d9",
   "metadata": {},
   "source": [
    "**``nav_msgs.msg.Odometry``**\n",
    "\n",
    "| Type | Name |\n",
    "| :----------------------- | :--------------- |\n",
    "| *std_msgs/Header* | header |\n",
    "| *string* | child_frame_id |\n",
    "| *geometry_msgs/PoseWithCovariance* | pose |\n",
    "| *geometry_msgs/TwistWithCovariance* | twist |\n",
    "\n",
    "- Represents an **estimate** of a **position and velocity** in free space\n",
    "- *``pose``* should be specified in the coordinate frame given by *``header.frame_id``*\n",
    "- *``twist``* should be specified in the coordinate frame given by the *``child_frame_id``*"
   ]
  },
  {
   "cell_type": "markdown",
   "id": "afcb62b2",
   "metadata": {},
   "source": [
    "**``trajectory_msgs/MultiDOFJointTrajectoryPoint.msg``**\n",
    "\n",
    "| Type | Name |\n",
    "| :---- | :---- |\n",
    "| *geometry_msgs/Transform\\[ \\]* | transforms |\n",
    "| *geometry_msgs/Twist\\[ \\]* | velocities |\n",
    "| *geometry_msgs/Twist\\[ \\]* | *accelerations* |\n",
    "| duration | time_from_start |\n",
    "\n",
    "- Represent a fully defined state point for a **multi-joint robot**, including **positions, velocities and accelerations** for for all joints\n",
    "- *``transforms``*: Each multi-dof joint can specify a transform (up to 6 DOF)\n",
    "- *``velocities``*: There can be a velocity specified for the origin of the joint\n",
    "- *``accelerations``*: There can be an acceleration specified for the origin of the joint"
   ]
  },
  {
   "cell_type": "markdown",
   "id": "65333395",
   "metadata": {},
   "source": [
    "**``trajectory_msgs/MultiDOFJointTrajectory.msg``**\n",
    "\n",
    "| Type | Name |\n",
    "| :---- | :---- |\n",
    "| *std_msgs/Header* | header |\n",
    "| *string\\[ \\]* | joint_names |\n",
    "| *trajectory_msgs/MultiDOFJointTrajectoryPoint\\[ \\]* | points |\n",
    "\n",
    "- The *``header``* is used to specify the coordinate frame and the reference time for the trajectory durations\n",
    "- Use a series of fully defined state points to specify a **multi-dof joint trajectory**\n",
    "- The order and length of every point must be same as the order of length as the *``joint_names``* array"
   ]
  },
  {
   "cell_type": "markdown",
   "id": "28aaafeb",
   "metadata": {},
   "source": [
    "### Packages used in execution\n",
    "**``rospy``**\n",
    "\n",
    "- A pure Python client library for ROS, enables Python programmers to quickly interface with ROS Topics, Services and Parameters.\n",
    "- For full documents, refer to **[``ROS Wiki``](http://wiki.ros.org/rospy)**"
   ]
  },
  {
   "cell_type": "markdown",
   "id": "6d89fd1e",
   "metadata": {},
   "source": [
    "**``numpy``**\n",
    "\n",
    "- A pack used for array computation and is widely known about"
   ]
  },
  {
   "cell_type": "markdown",
   "id": "6236cda5",
   "metadata": {},
   "source": [
    "**``tf``**\n",
    "\n",
    "- A package in ROS that lets the user keep track of multiple coordinate frames over time\n",
    "- *``tf``* maintains the relationship between coordinate frames in a tree structure buffered in time\n",
    "- Lets the user transform points, vectors, etc between any two coordinate frames at any desired point in time\n",
    "- For full documents, refer to the **[``ROS Wiki``](http://wiki.ros.org/tf)** and **[``python docs about tf``](http://docs.ros.org/en/melodic/api/tf/html/python/tf_python.html#transformer)**"
   ]
  },
  {
   "cell_type": "markdown",
   "id": "2c4a98a6",
   "metadata": {},
   "source": [
    "### Final imports\n",
    "Here are the reorganized imports. The first line is meant to assign python interpreters."
   ]
  },
  {
   "cell_type": "code",
   "execution_count": null,
   "id": "b1cfdd7d",
   "metadata": {},
   "outputs": [],
   "source": [
    "#!/usr/bin/env python\n",
    "\n",
    "# Python library for ROS\n",
    "import rospy\n",
    "# Necessary messages types\n",
    "from geometry_msgs.msg import Transform, Twist\n",
    "from nav_msgs.msg import Odometry\n",
    "from trajectory_msgs.msg import MultiDOFJointTrajectoryPoint, MultiDOFJointTrajectory\n",
    "# Necessary Packages\n",
    "import tf\n",
    "import numpy as np"
   ]
  },
  {
   "cell_type": "markdown",
   "id": "55ede0bc",
   "metadata": {},
   "source": [
    "Here are the unnecessary message types and module initially imported in the scripts. For potential reference, list them here."
   ]
  },
  {
   "cell_type": "code",
   "execution_count": null,
   "id": "19885a77",
   "metadata": {},
   "outputs": [],
   "source": [
    "\"\"\" ***** Unused message types and modules *****\n",
    "import sensor_msgs.point_cloud2\n",
    "from nav_msgs.msg import Path\n",
    "from geometry_msgs.msg import PoseStamped\n",
    "from sensor_msgs.msg import PointCloud2\n",
    "from geometry_msgs.msg import PoseWithCovarianceStamped\n",
    "from visualization_msgs.msg import Marker\n",
    "from pursuit_msgs.msg import PursuitPlan\n",
    "from geometry_msgs.msg import PoseStamped\n",
    "from Trackers import MultiTracker\n",
    "from tf.transformations import quaternion_matrix\n",
    "from tf.transformations import quaternion_from_matrix\n",
    "from std_srvs.srv import Empty\n",
    "\"\"\""
   ]
  },
  {
   "cell_type": "markdown",
   "id": "693c4ceb",
   "metadata": {},
   "source": [
    "## Function: poly_path(...)\n",
    "- **Description**: This function is not invoked in scripts I've seen so I'm not sure what it is for"
   ]
  },
  {
   "cell_type": "code",
   "execution_count": null,
   "id": "a2c6aac9",
   "metadata": {},
   "outputs": [],
   "source": [
    "def poly_path(points, v0, max_vel, dt):\n",
    "    \"\"\"\n",
    "    - Final velocity of each edge should point to next point\n",
    "    - Mean velocity between edges should be max_vel\n",
    "\n",
    "    \"\"\"\n",
    "    trans = points[0].reshape(-1, 3)\n",
    "    vel = v0.reshape(-1, 3)\n",
    "    acc = np.zeros((1, 3))\n",
    "    time = np.zeros((1, 1))\n",
    "    t0 = 0.0\n",
    "    for i in range(1, points.shape[0]):\n",
    "        s0 = points[i - 1, :]\n",
    "        s1 = points[i, :]\n",
    "\n",
    "        ds = np.sqrt(np.sum((s0 - s1)**2))\n",
    "        t1 = ds / max_vel\n",
    "        v1 = max_vel * (s1 - s0) / ds\n",
    "\n",
    "        tt = np.arange(dt, t1, dt).reshape(-1, 1)\n",
    "\n",
    "        a = (3 * s1 - 3 * s0 - 3 * t1 * v0 + t1 * v0 - t1 * v1) / t1 ** 2\n",
    "        b = (2 * s0 - 2 * s1 + t1 * v0 + t1 * v1) / t1 ** 3\n",
    "\n",
    "        ss = s0 + v0 * tt + a * tt**2 + b * tt**3\n",
    "        vv = v0 + 2 * a * tt + 3 * b * tt**2\n",
    "        aa = 2 * a + 6 * b * tt\n",
    "\n",
    "        trans = np.vstack((trans, ss))\n",
    "        vel = np.vstack((vel, vv))\n",
    "        acc = np.vstack((acc, aa))\n",
    "        time = np.vstack((time, tt + t0))\n",
    "\n",
    "        v0 = v1\n",
    "        t0 += t1\n",
    "\n",
    "    return trans, vel, acc, time"
   ]
  },
  {
   "cell_type": "markdown",
   "id": "d2b627a5",
   "metadata": {},
   "source": [
    "## Function: traj_message(...)\n",
    "- **Description**:\n",
    "    - Given a series of collections of position, velocity, acceleration and time, produce a list of standard ROS messages of trajectory points, which can be then used to build a standard ROS trajectory message.\n",
    "- **Inputs**:\n",
    "    - *``trans``*: A $3\\times n$ matrix, the $[x,y,z]^T$ positions of $n$ time steps\n",
    "    - *``vel``*: A $3\\times n$ matrix, the velocities on $[x,y,z]^T$ directions of $n$ time steps\n",
    "    - *``acc``*: A $3\\times n$ matrix, the accelerations on $[x,y,z]^T$ directions of $n$ time steps\n",
    "    - *``time``*: A vector of length $n$, time steps\n",
    "- **Outputs**:\n",
    "    - A list of *``trajectory_msgs/MultiDOFJointTrajectoryPoint.msg``*"
   ]
  },
  {
   "cell_type": "code",
   "execution_count": null,
   "id": "8b0c3925",
   "metadata": {},
   "outputs": [],
   "source": [
    "def traj_message(trans, vel, acc, time):\n",
    "    \"\"\"\n",
    "    Produce a list of trajectory points according to given arrays\n",
    "    of positions, velocities, accelerations and corresponding times\n",
    "    \"\"\"\n",
    "    # Create a blank list\n",
    "    traj_points = []\n",
    "    \n",
    "    # Create the trajectory points for each time step in loop\n",
    "    for i in range(time.shape[0]):\n",
    "        # Create a blank trajectory point\n",
    "        tpts = MultiDOFJointTrajectoryPoint()\n",
    "        \n",
    "        # Set the duration time of each trajectory point\n",
    "        ''' ********** Doubt **********\n",
    "        It seems that a fixed length of the time step is expected,\n",
    "        but the right hand side is providing an increasing length?\n",
    "        The time provided to this function is an array created by np.arange()\n",
    "        '''\n",
    "        tpts.time_from_start = rospy.Duration(time[i])\n",
    "\n",
    "        # Initialize the messages needed for a trajectory point\n",
    "        tpts.transforms = [Transform()]\n",
    "        tpts.velocities = [Twist()]\n",
    "        tpts.accelerations = [Twist()]\n",
    "\n",
    "        # The rotation represented by a quaternion\n",
    "        tpts.transforms[0].rotation.w = 1.0\n",
    "        tpts.transforms[0].rotation.x = 0.0\n",
    "        tpts.transforms[0].rotation.y = 0.0\n",
    "        tpts.transforms[0].rotation.z = 0.0\n",
    "\n",
    "        # The translation in three directions\n",
    "        tpts.transforms[0].translation.x = trans[i, 0]\n",
    "        tpts.transforms[0].translation.y = trans[i, 1]\n",
    "        tpts.transforms[0].translation.z = trans[i, 2]\n",
    "        \n",
    "        # Speeds in three directions\n",
    "        tpts.velocities[0].linear.x = vel[i, 0]\n",
    "        tpts.velocities[0].linear.y = vel[i, 1]\n",
    "        tpts.velocities[0].linear.z = vel[i, 2]\n",
    "\n",
    "        # Accelerations in three directions\n",
    "        tpts.accelerations[0].linear.x = acc[i, 0]\n",
    "        tpts.accelerations[0].linear.y = acc[i, 1]\n",
    "        tpts.accelerations[0].linear.z = acc[i, 2]\n",
    "\n",
    "        # Add this point to the trajectory points\n",
    "        traj_points.append(tpts)\n",
    "\n",
    "    return traj_points"
   ]
  },
  {
   "cell_type": "markdown",
   "id": "07beffb4",
   "metadata": {},
   "source": [
    "## Class: LocalPlanner\n",
    "\n",
    "### \\_\\_init\\_\\_(self)"
   ]
  },
  {
   "cell_type": "code",
   "execution_count": null,
   "id": "f9a0816c",
   "metadata": {},
   "outputs": [],
   "source": [
    "class LocalPlanner(object):\n",
    "    # Initiate the class when created\n",
    "    def __init__(self):\n",
    "        \"\"\"\n",
    "        Initiate the class when created\n",
    "        \"\"\"\n",
    "        # Get the parameters from private namespace\n",
    "        # If the parameters don't exist, use the default values\n",
    "        # THe syntax is rospy.get_param(\"name\",\"default value\")\n",
    "        self.dt = rospy.get_param(\"~dt\", 0.1)\n",
    "        self.max_vel = rospy.get_param(\"~velocity\", 2.0)\n",
    "        self.inertial_frame = rospy.get_param(\"~inertial_frame\", \"map\")\n",
    "        self.base_frame = rospy.get_param(\"~base_frame\", \"base_link\")\n",
    "\n",
    "        # Initialize the position in order of [x, y ,z]\n",
    "        self.position_base = np.array([10, 0, 5.0])\n",
    "\n",
    "        # Subscribes to the \"/tf\" message topic\n",
    "        # Calls tf.Transformer.setTransform() with each incoming transformation message\n",
    "        ''' ********** Modification ********** \n",
    "        Currently I do not see why this is necessary while it leads to\n",
    "        a flood of warnings syaing that ignoring repeated data\n",
    "        Therefore, I commented this out in my simulation code\n",
    "        '''\n",
    "        self.listener = tf.TransformListener()\n",
    "\n",
    "        # Set the publisher to topic \"command/trajectory\"\n",
    "        # The publish message type is set to MultiDOFJointTrajectory\n",
    "        # Queue size is set to avoid data lost due to connection issues\n",
    "        self.pub_cmd = rospy.Publisher('command/trajectory', MultiDOFJointTrajectory, queue_size=10)\n",
    "\n",
    "        # Initialize the velocities and accelerationes\n",
    "        self.position, self.velocity = np.zeros(3), np.zeros(3)\n",
    "\n",
    "        # Subscribe to the \"odometry\" topic\n",
    "        # The received message type is supposed to be Odemetry\n",
    "        # The received message is sent to the function self.odom_cb\n",
    "        rospy.Subscriber('odometry', Odometry, self.odom_cb)\n",
    "\n",
    "        # Sleep for 2 seconds\n",
    "        rospy.sleep(2.0)"
   ]
  },
  {
   "cell_type": "markdown",
   "id": "16169ff2",
   "metadata": {},
   "source": [
    "### odom_cb(self, msg)\n",
    "- Input: Message of type **``nav_msgs.msg.Odometry``**"
   ]
  },
  {
   "cell_type": "code",
   "execution_count": null,
   "id": "c579f403",
   "metadata": {},
   "outputs": [],
   "source": [
    "    def odom_cb(self, msg):\n",
    "        \"\"\"\n",
    "        Reorganize the position and velocity information from subscription\n",
    "        \"\"\"\n",
    "        # Get the position information\n",
    "        self.position = np.array([\n",
    "            msg.pose.pose.position.x,\n",
    "            msg.pose.pose.position.y,\n",
    "            msg.pose.pose.position.z])\n",
    "        # Get the velocity information\n",
    "        self.velocity = np.array([\n",
    "            msg.twist.twist.linear.x,\n",
    "            msg.twist.twist.linear.y,\n",
    "            msg.twist.twist.linear.z])"
   ]
  },
  {
   "cell_type": "markdown",
   "id": "b1d5da32",
   "metadata": {},
   "source": [
    "###  loop(self, ...)\n",
    "- Given the initial position, provides and **publishes** a trajectory which consists of a sinusoidal trajectory in $y$ direction and a sinusoidal trajectory in $z$ direction. Amplitudes and periods of the sinusoidal trajectories can be controlled by input arguments.\n",
    "\n",
    "- **Inputs**:\n",
    "    - *``trans0``*: A vector of length $3$, the initial position in form of $[x,y,z]$\n",
    "    - *``width``*: A *``float``* number, the amplitude of trajectory in $y$ direction\n",
    "    - *``height``*: A *``float``* number, the amplitude of trajectory in $z$ direction\n",
    "    - *``period``*: A *``float``* number, the period for the sinusoidal trajectories"
   ]
  },
  {
   "cell_type": "code",
   "execution_count": null,
   "id": "f8f097a7",
   "metadata": {},
   "outputs": [],
   "source": [
    "    def loop(self, trans0, width, height, period):\n",
    "        \"\"\"\n",
    "        Create and publish a trajectory described by input arguments\n",
    "        \"\"\"\n",
    "        # Create the blank trajectory message\n",
    "        cmd = MultiDOFJointTrajectory()\n",
    "        # Set the joint names\n",
    "        cmd.joint_names = [\"robot_link\"]\n",
    "        # Set the header of the trajectroy message\n",
    "        cmd.header.frame_id = self.inertial_frame\n",
    "        cmd.header.stamp = rospy.Time.now()\n",
    "        \n",
    "        # The duration of each trajectory point is 0.1s\n",
    "        time = np.arange(0, period, 0.1)\n",
    "\n",
    "        # No movements in x direction\n",
    "        x = np.zeros(time.shape) + trans0[0]\n",
    "        # A sinusoidal trajectory in y direction\n",
    "        y = (width / 2) * np.sin(2 * np.pi * time * 2.0 / period) + trans0[1]\n",
    "        # A sinusoidal trajectory in z direction\n",
    "        z = -(height / 2) * np.cos(2 * np.pi * time / period) + trans0[2]\n",
    "        # Get the mixed trajectory\n",
    "        trans = np.vstack((x, y, z)).T\n",
    "\n",
    "        # The velocities seems to be the derivative of the trajectories\n",
    "        vx = 0.0 * x\n",
    "        vy = (width / 2) * (2 * np.pi * 2.0 / period) * np.cos(2 * np.pi * time * 2.0 / period)\n",
    "        vz = (height / 2) * (2 * np.pi / period) * np.sin(2 * np.pi * time / period)\n",
    "        vel = np.vstack((vx, vy, vz)).T\n",
    "\n",
    "        # The accelerations seems to be the derivative of the velocities\n",
    "        ax = 0.0 * x\n",
    "        ay = -(width / 2) * (2 * np.pi * 2.0 / period) ** 2 \\\n",
    "            * np.sin(2 * np.pi * time * 2.0 / period)\n",
    "        az = (height / 2) * (2 * np.pi / period) ** 2 * np.cos(2 * np.pi * time / period)\n",
    "        acc = np.vstack((ax, ay, az)).T\n",
    "\n",
    "        # Get the list of standard ROS messages of trajectory points\n",
    "        cmd.points = traj_message(trans, vel, acc, time)\n",
    "\n",
    "        # Publish the trajectory to topic \"command/trajectory\"\n",
    "        self.pub_cmd.publish(cmd)"
   ]
  },
  {
   "cell_type": "markdown",
   "id": "0bd14f30",
   "metadata": {},
   "source": [
    "## Main program\n",
    "Commands which would be executed when directly running this script (not executed when imported)"
   ]
  },
  {
   "cell_type": "code",
   "execution_count": null,
   "id": "7330d3bc",
   "metadata": {},
   "outputs": [],
   "source": [
    "if __name__ == \"__main__\":\n",
    "    # Initialize the ROS node for the process with name \"local_planner\"\n",
    "    # The \"anonymous\" argument adds a random number to the end of name \n",
    "    # so that the name is ensured to be unique\n",
    "    rospy.init_node('local_planner', anonymous=True)\n",
    "    \n",
    "    # Create an instance from the class \"LocalPlanner\"\n",
    "    gp = LocalPlanner()\n",
    "\n",
    "    # Set the rate to be 0.1 hz\n",
    "    r = rospy.Rate(1.0 / 10)\n",
    "    while not rospy.is_shutdown():\n",
    "        # Publish a trajectory needs 10 seconds to finish\n",
    "        gp.loop((4.0, 0.0, 2.0), 3.0, 2.0, 10.0)\n",
    "        # Wait for 10 seconds\n",
    "        r.sleep()\n",
    "        # The rest are similar\n",
    "        gp.loop((6.0, 0.0, 2.0), 3.0, 2.0, 10.0)\n",
    "        r.sleep()\n",
    "        gp.loop((8.0, 0.0, 2.0), 3.0, 2.0, 10.0)\n",
    "        r.sleep()\n",
    "        gp.loop((6.0, 0.0, 2.0), 3.0, 2.0, 10.0)\n",
    "        r.sleep()"
   ]
  },
  {
   "cell_type": "markdown",
   "id": "66dd7b63",
   "metadata": {},
   "source": [
    "# Temporary Summary\n",
    "## Completed\n",
    "- Set the ROS environment and test the simulation\n",
    "- Get familiar with the current controlling scripts\n",
    "    - Necessary message types\n",
    "    - Subscriptions, publishers and topics related to this node\n",
    "    - How the trajectory in current simulation is built"
   ]
  },
  {
   "cell_type": "markdown",
   "id": "a25ffcc3",
   "metadata": {},
   "source": [
    "## To do\n",
    "### ROS interface\n",
    "- Look carefully into the launch file\n",
    "    - The function of each node\n",
    "    - Is it necessary to simulate the 4-rotor UAV (*hunter*) in the meantime while we're going to use the 6-rotor UAV (*firefly*) in reality?\n",
    "    - Only keep the *necessary* nodes to simplify further development?\n",
    "- View the topic lists to check if there are other topics controlling the movements\n",
    "    - command/motor_speed\n",
    "    - command/pose\n",
    "    - command/trajectory\n",
    "    - ...\n",
    "- Think about the controlling strategy needed for obstacle avoiding and boat following(?)\n",
    "    - Build a trajectory for each movement based on slow but accurate detection\n",
    "    - Directly control small movements based on fast detections\n",
    "    - ..."
   ]
  },
  {
   "cell_type": "markdown",
   "id": "6a22fa5b",
   "metadata": {},
   "source": [
    "### CNN\n",
    "- Figure out the detailed requirements for the network\n",
    "    - Handle the bias lying in the image datasets (most consist of rivers and boats)\n",
    "    - Simple localization for the boat, segmentation according to the river shape, ...\n",
    "    - Efficiency on specified devices\n",
    "    - ...\n",
    "- Check available datasets which can be used to train the networks"
   ]
  },
  {
   "cell_type": "markdown",
   "id": "4486e109",
   "metadata": {},
   "source": [
    "## Further Plan\n",
    "### ROS interface\n",
    "- Consider how to implement online classification via CNN in ROS efficiently\n",
    "\n",
    "### CNN Design\n",
    "- Choose an appropriate network structure according to requirements and available datasets\n",
    "    - A highly customized but simple network trained on custom datasets\n",
    "    - CNN based on anchor boxes such as yolo v5\n",
    "    - MLP with tranformer such as MLP-Mixer\n",
    "    - \\[Possible\\] Adjust some requirements because of network limitations\n",
    "- Train the network on some custom datasets to ensure performance\n",
    "- \\[Possible\\] Try network pruning to improve efficiency\n",
    "- Apply the network in ROS"
   ]
  }
 ],
 "metadata": {
  "kernelspec": {
   "display_name": "Python 3",
   "language": "python",
   "name": "python3"
  },
  "language_info": {
   "codemirror_mode": {
    "name": "ipython",
    "version": 3
   },
   "file_extension": ".py",
   "mimetype": "text/x-python",
   "name": "python",
   "nbconvert_exporter": "python",
   "pygments_lexer": "ipython3",
   "version": "3.8.10"
  },
  "toc": {
   "base_numbering": 1,
   "nav_menu": {},
   "number_sections": true,
   "sideBar": true,
   "skip_h1_title": false,
   "title_cell": "Table of Contents",
   "title_sidebar": "Contents",
   "toc_cell": false,
   "toc_position": {
    "height": "calc(100% - 180px)",
    "left": "10px",
    "top": "150px",
    "width": "307.2px"
   },
   "toc_section_display": true,
   "toc_window_display": true
  },
  "varInspector": {
   "cols": {
    "lenName": 16,
    "lenType": 16,
    "lenVar": 40
   },
   "kernels_config": {
    "python": {
     "delete_cmd_postfix": "",
     "delete_cmd_prefix": "del ",
     "library": "var_list.py",
     "varRefreshCmd": "print(var_dic_list())"
    },
    "r": {
     "delete_cmd_postfix": ") ",
     "delete_cmd_prefix": "rm(",
     "library": "var_list.r",
     "varRefreshCmd": "cat(var_dic_list()) "
    }
   },
   "types_to_exclude": [
    "module",
    "function",
    "builtin_function_or_method",
    "instance",
    "_Feature"
   ],
   "window_display": false
  }
 },
 "nbformat": 4,
 "nbformat_minor": 5
}
