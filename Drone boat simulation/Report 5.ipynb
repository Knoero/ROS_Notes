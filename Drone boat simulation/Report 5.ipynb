{
 "cells": [
  {
   "cell_type": "markdown",
   "id": "1abc9b48",
   "metadata": {},
   "source": [
    "**Information:** *The weekly report supposed to be finished in week 11*\n",
    "\n",
    "**Written by:** *Zihao Xu*\n",
    "\n",
    "**Last updated date:** *Nov.10.2021*"
   ]
  },
  {
   "cell_type": "markdown",
   "id": "f9008b30",
   "metadata": {},
   "source": [
    "#  Recap on previous work\n",
    "\n",
    "## Existing simulations\n",
    "\n",
    "- Set the ROS environment and test the initial simulation.\n",
    "- Got familiar with the current controlling scripts.\n",
    "    - Took notes of necessary message types.\n",
    "    - Looked into the node graphs (subscriptions, publishers and topics).\n",
    "    - Modified the existing trajectories.\n",
    "- Reviewed all the ROS operations and made some notes for quick reference.\n",
    "- Read through the launch file, node parameters and package information.\n",
    "- Modified the launch file and package descriptions.\n",
    "\n",
    "## Gazebo worlds\n",
    "- Tested the pre-built Gazebo worlds in **Rotors** and determined some ideal environments for testing the obstacle avoidance algorithms.\n",
    "- World named **warehouse**. \\begin{figure}\\centering\\includegraphics[width=0.75\\textwidth]{Figures/warehouse.png} \\label{Fig1} \\end{figure}\n",
    "- World named **outdoor**.\\begin{figure}\\centering\\includegraphics[width=0.75\\textwidth]{Figures/outdoor.png} \\label{Fig2} \\end{figure}\n",
    "- World named **powerplant**.\\begin{figure}\\centering\\includegraphics[width=0.75\\textwidth]{Figures/powerplant.png} \\label{Fig1} \\end{figure}\n",
    "- World named **test_city**.\\begin{figure}\\centering\\includegraphics[width=0.75\\textwidth]{Figures/test_city.png} \\label{Fig3} \\end{figure}\n",
    "- World named **waypoint**.\\begin{figure}\\centering\\includegraphics[width=0.75\\textwidth]{Figures/waypoint.png} \\label{Fig4} \\end{figure}\n",
    "- It needs to be mentioned that some worlds have the **sim_time**, **real_time** and **wall_time** tags in the world definition. Sometimes this would cause the spawn immediately time out as soon as the world actually starts. Setting **sim_time** to 0 would be an easy fix, although the spawn model service is supposed to handle this case.\n",
    "\n",
    "\n",
    "## Basic movements\n",
    "\n",
    "- Dived into the source package **[Rotors](https://github.com/ethz-asl/rotors_simulator/wiki)** and checked all the existing controllers.\n",
    "- Found out that the **roll_pitch_yawrate_thrust_controller** might be essential for obstacle avoidance tasks."
   ]
  },
  {
   "cell_type": "markdown",
   "id": "9d61b2e9",
   "metadata": {},
   "source": [
    "# Get control of basic movements\n",
    "\n",
    "## Modify the launch file\n",
    "\n",
    "The way to take use of the roll_pitch_yawrate_thrust_controller is similar to the way launching lee_position_controller."
   ]
  },
  {
   "cell_type": "code",
   "execution_count": null,
   "id": "1b83b338",
   "metadata": {},
   "outputs": [],
   "source": [
    "<node name=\"roll_pitch_yawrate_thrust_controller_node\" pkg=\"rotors_control\" type=\"roll_pitch_yawrate_thrust_controller_node\" output=\"screen\">\n",
    "    <rosparam command=\"load\" file=\"$(find rotors_gazebo)/resource/roll_pitch_yawrate_thrust_controller_pelican.yaml\" />\n",
    "    <rosparam command=\"load\" file=\"$(find rotors_gazebo)/resource/pelican.yaml\" />\n",
    "    <remap from=\"odometry\" to=\"ground_truth/odometry\" />\n",
    "</node>"
   ]
  },
  {
   "cell_type": "markdown",
   "id": "7096bcb3",
   "metadata": {},
   "source": [
    "One thing needs to pay some attention to is the type of the UAV. The files describing pre-set gains of controller and information of model must be correctly assigned. In this case, we're using the model called **pelican** according to the codes above launching the Gazebo world. This parameter is important because each model has a different set of controller gains, mass and inertia information and rotors information."
   ]
  },
  {
   "cell_type": "markdown",
   "id": "9adb1daa",
   "metadata": {},
   "source": [
    "## Edit the package information\n",
    "\n",
    "The new controller requires a publisher with the data type mav_msgs/RollPitchYawrateThrust  to the topic /command/roll_pitch_yawrate_thrust. Here is is information of the message type.\n",
    "\n",
    "**mav_msgs/RollPitchYawrateThrust**\n",
    "\n",
    "| Type | Name |\n",
    "| :---- | :---- |\n",
    "| *std_msgs/Header* | header |\n",
    "| *double* | roll |\n",
    "| *double* | pitch |\n",
    "| *double* | yaw_rate |\n",
    "| *geometry_msgs/Vector3* | thrust |\n",
    "\n",
    "Therefore, the descriptions for the package **hunter_gazebo** should be edited and the dependency of **mav_msgs** should be added. In this case, both the **CMakeLists.txt** and **package.xml** are modified."
   ]
  },
  {
   "cell_type": "markdown",
   "id": "d0d543ff",
   "metadata": {},
   "source": [
    "## Test the new controller\n",
    "\n",
    "To test how the controller work, a new launch file initiates the hunter drone with the additionally controller was created. The script assigning the trajectories is also edited to test the new controller. \n",
    "\n",
    "That is to say, we can have a combined controller which can either automatically follow the assigned trajectories, or move according to direct and simple commands."
   ]
  },
  {
   "cell_type": "markdown",
   "id": "8835c4a7",
   "metadata": {},
   "source": [
    "# Check the vision information\n",
    "\n",
    "## Existing cameras\n",
    "\n",
    "There are three depth cameras on the existing drone model named hunter. Two of them are placed forward like human eyes and the last one is placed downward. The names are as follows.\n",
    "\n",
    "- **camera_downward**\n",
    "- **left**\n",
    "- **right**\n",
    "\n",
    "## Available messages\n",
    "\n",
    "According to the topic lists, some of the available topics of each camera are listed below.\n",
    "\n",
    "### image_raw\n",
    "\n",
    "- Type: **sensor_msgs/Image**\n",
    "- The message contains an uncompressed image.\n",
    "- (0,0) is at the top-left corner of the image.\n",
    "\n",
    "| Type | Name | Note |\n",
    "| :---- | :---- | :---- |\n",
    "| *std_msgs/Header* | header | |\n",
    "| *uint32* | height | Number of rows |\n",
    "| *uint32* | width | Number of columns |\n",
    "| *string* | encoding | Encoding of pixels |\n",
    "| *uint8* | is_bigendian | If the data is [big endian](https://en.wikipedia.org/wiki/Endianness) |\n",
    "| *uint32* | step | Full row length in bytes |\n",
    "| *uint8[]* | data | Actual matrix data |\n",
    "\n",
    "- In the simulation, some important parameters are\n",
    "    - height: 480\n",
    "    - width: 752\n",
    "    - string: mono8\n",
    "\n",
    "### image_raw/compressed\n",
    "\n",
    "- Type: **sensor_msgs/CompressedImage**\n",
    "- The message contains a compressed image.\n",
    "\n",
    "| Type | Name | Note |\n",
    "| :---- | :---- | :---- |\n",
    "| *std_msgs/Header* | header | |\n",
    "| *string* | format | Format of the data such as *png* and *jpeg* |\n",
    "| *uint8[]* | data | Actual matrix data |\n",
    "\n",
    "- In this simulation, the image is compressed to the format *jpeg*.\n",
    "\n",
    "###  image_raw/compresssedDepth\n",
    "\n",
    "- Type: **sensor_msgs/CompressedImage**\n",
    "- In this simulation, the compression failed because the input format is *mono8* while the compression process requires single-channel 32bit-floating point or 16bit raw depth images.\n",
    "- If we would like to make use of the depth information, we may need to modify the cameras so that we can get the depth information.\n",
    "\n",
    "## Examples\n",
    "\n",
    "Here is the currently available images from the cameras. The following images were taken in the **test_city** world while no movements is assigned to the drone.\n",
    "\n",
    "- The situation of the drone. \\begin{figure}\\centering\\includegraphics[width=0.75\\textwidth]{Figures/Situation.png} \\label{Fig5} \\end{figure}\n",
    "- The output of the left camera. \\begin{figure}\\centering\\includegraphics[width=0.75\\textwidth]{Figures/Left_camera.png} \\label{Fig6} \\end{figure}\n",
    "- The output of the right camera. \\begin{figure}\\centering\\includegraphics[width=0.75\\textwidth]{Figures/right_camera.png} \\label{Fig7} \\end{figure}\n",
    "\n",
    "## Possible works\n",
    "\n",
    "- The motor itself occurred in the images. Modify the camera positions when needed.\n",
    "- The current images are gray. Not sure if color images are needed.\n",
    "- The depth information requires modification of the type of outputs from the cameras."
   ]
  },
  {
   "cell_type": "markdown",
   "id": "7ba88903",
   "metadata": {},
   "source": [
    "# Existing collision avoidance systems and approaches\n",
    "\n",
    "Given that I've got control of the basic movements by changing the controller and got access to the camera information, I searched for literatures in the area of collision avoidance and tried to find out any well-build vision-based systems so that I can conveniently implement a stable algorithms to the simulation. \n",
    "\n",
    "I mainly focused on a paper which claims to provide a comprehensive review of collision avoidance strategies used for unmanned vehicles, with the main emphasis on unmanned aerial vehicles (UAV). The paper is published in [IEEE Access](https://ieeexplore.ieee.org/document/9108245) on Jun. 04, 2020.\n",
    "\n",
    "Right now I would like to try to implement the vision-based algorithms as a start therefore I only focused on the camera related to cameras. The paper mentions an approach based on stereo cameras which can obtain the absolute depth using the intrinsic and extrinsic parameters of the cameras. The approach is successfully implemented on a 6DoF drone with a fuzzy controller to smooth the response of the controller. I would like to look into those references and check if the perception and control algorithms can be applied to this project."
   ]
  },
  {
   "cell_type": "markdown",
   "id": "9b5242f1",
   "metadata": {},
   "source": [
    "# Modified files\n",
    "\n",
    "Here is the list of files I've modified and plan to commit and upload to the git repo.\n",
    "\n",
    "**Edited**:\n",
    "\n",
    "- *hunter_gazebo/CMkaeLists.txt*\n",
    "    - Modified the package dependencies.\n",
    "- *hunter_gazebo/package.xml*\n",
    "    - Modified the package dependencies.\n",
    "- *hunter_gazebo/launch/run_simulation.launch*\n",
    "    - Added detailed comments and deleted non-necessary nodes.\n",
    "- *hunter_gazebo/scripts/follow_waypoints.py*\n",
    "    - Added detailed comments, modified the assigned trajectories.\n",
    "- *rotors_gazebo/worlds/test_city.world*\n",
    "    - Modified the *sim_time* parameter for successful implementation.\n",
    "    \n",
    "**Added**:\n",
    "\n",
    "- *hunter_gazebo/launch/obstacle_avoidance.launch*\n",
    "    - A new launch file which initiate a hunter drone with two controllers in the **test_city** world.\n",
    "    - Will be used for further obstacle avoidance tasks.\n",
    "- *hunter_gazebo/scripts/cas_controller.py*\n",
    "    - A test script using both the new controller and the old controller.\n",
    "    - Add subscribers for vision informations.\n",
    "    - Will be developed for further obstacle avoidance tasks."
   ]
  },
  {
   "cell_type": "markdown",
   "id": "fe4a4806",
   "metadata": {},
   "source": [
    "# Summary\n",
    "\n",
    "In the past two weeks, I \n",
    "\n",
    "- debugged the new controller nodes with new scripts and tested its performance along with the lee position controller.\n",
    "- carefully checked the available vision information since I proposed to use the depth information for obstacle detection.\n",
    "- searched for and read papers related to the area of collision avoidance and tried to find possible algorithms which could be applied to this project.\n",
    "\n",
    "In the next two week, I plan to\n",
    "\n",
    "- modify the camera settings so that the depth information could be obtained.\n",
    "- dive deeper into the application of stereo cameras introduced in the paper mentioned above and see if there is existing algorithms for convenient implementation.\n",
    "\n",
    "Please let me know if anything I'm doing is not on the right track. Any advice of suggestions would be greatly appreciated."
   ]
  }
 ],
 "metadata": {
  "kernelspec": {
   "display_name": "Python 3 (ipykernel)",
   "language": "python",
   "name": "python3"
  },
  "language_info": {
   "codemirror_mode": {
    "name": "ipython",
    "version": 3
   },
   "file_extension": ".py",
   "mimetype": "text/x-python",
   "name": "python",
   "nbconvert_exporter": "python",
   "pygments_lexer": "ipython3",
   "version": "3.8.12"
  },
  "latex_envs": {
   "LaTeX_envs_menu_present": true,
   "autoclose": false,
   "autocomplete": true,
   "bibliofile": "biblio.bib",
   "cite_by": "apalike",
   "current_citInitial": 1,
   "eqLabelWithNumbers": true,
   "eqNumInitial": 1,
   "hotkeys": {
    "equation": "Ctrl-E",
    "itemize": "Ctrl-I"
   },
   "labels_anchors": false,
   "latex_user_defs": false,
   "report_style_numbering": false,
   "user_envs_cfg": false
  },
  "toc": {
   "base_numbering": 1,
   "nav_menu": {},
   "number_sections": true,
   "sideBar": true,
   "skip_h1_title": false,
   "title_cell": "Table of Contents",
   "title_sidebar": "Contents",
   "toc_cell": false,
   "toc_position": {},
   "toc_section_display": true,
   "toc_window_display": false
  },
  "varInspector": {
   "cols": {
    "lenName": 16,
    "lenType": 16,
    "lenVar": 40
   },
   "kernels_config": {
    "python": {
     "delete_cmd_postfix": "",
     "delete_cmd_prefix": "del ",
     "library": "var_list.py",
     "varRefreshCmd": "print(var_dic_list())"
    },
    "r": {
     "delete_cmd_postfix": ") ",
     "delete_cmd_prefix": "rm(",
     "library": "var_list.r",
     "varRefreshCmd": "cat(var_dic_list()) "
    }
   },
   "types_to_exclude": [
    "module",
    "function",
    "builtin_function_or_method",
    "instance",
    "_Feature"
   ],
   "window_display": false
  }
 },
 "nbformat": 4,
 "nbformat_minor": 5
}
