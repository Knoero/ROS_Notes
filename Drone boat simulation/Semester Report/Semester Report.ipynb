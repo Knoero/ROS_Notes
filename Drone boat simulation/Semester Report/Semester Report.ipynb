{
 "cells": [
  {
   "cell_type": "markdown",
   "id": "b63cfb32",
   "metadata": {},
   "source": [
    "**Information:** *A brief summary for my work in the past semester*\n",
    "\n",
    "**Written by:** *Zihao Xu*"
   ]
  },
  {
   "cell_type": "markdown",
   "id": "055d5721",
   "metadata": {},
   "source": [
    "# Introduction\n",
    "\n",
    "## Collaborative Unmanned Surface-Aerial Vehicle System\n",
    "\n",
    "On the one hand, unmanned surface vehicles (USVs) may perform a variety of tasks in a wide range of applications, including autonomous searching, signal transfer between air and undersea vehicles, and coast monitoring. On the other hand, the localization and path planning performances of autonomous USVs in GPS-denied environments are limited by the ineffective detection approaches and costly trial-and-error movements. Without reliable global localization systems, it's difficult for USVs to be accurately navigated while avoid dead ends such as shallows and tributaries.\n",
    "\n",
    "While the autonomous searching and explorations of UAVs in GPS-denied environments is much more well-developed and less time-consuming, the maximum available ranges of searching and exploration are strictly limited by the battery capacities of the UAVs. In general, the larger the capacity is, the heavier the battery would be, thus making the flight less efficient.\n",
    "\n",
    "Therefore, a **collaborative unmanned surface-aerial vehicle system** is proposed. In this system, one or more UAVs are to be utilized for localization and navigation of the autonomous boat when the boat needs to choose between different paths. In the meantime, the UAVs would be automatically charged aboard the boat when no explorations are needed so that relatively smaller battery capacities would be accepted even for tasks such as long-distance autonomous searches."
   ]
  },
  {
   "cell_type": "markdown",
   "id": "e1027e49",
   "metadata": {},
   "source": [
    "## Desired UAV Utilities\n",
    "\n",
    "The desired UAV utilities for collaborative work with autonomous USVs can be roughly divided into three tasks as follows.\n",
    "\n",
    "- Autonomous searching and exploration in GPS-denied environments.\n",
    "- Localization and mapping for autonomous USVs.\n",
    "- Accurate landing on USVs for recharging.\n",
    "\n",
    "Right now the first task is still in progress and here are the naive responsibilities proposed for it.\n",
    "\n",
    "- Safely take off from the USV in a possibly cluttered environment.\n",
    "- Based on assigned regions to be searched and mapped, compute an efficient trajectory to sample from the area.\n",
    "- Given the optimized trajectory, fly along the trajectory while safely avoiding any existing obstacles in the process."
   ]
  },
  {
   "cell_type": "markdown",
   "id": "c17658ce",
   "metadata": {},
   "source": [
    "## Detailed Steps\n",
    "\n",
    "To accomplish the autonomous searching with obstacle avoidance systems, I made a list for the detailed steps I've taken and I'm planning to take toward the task. When I was invited into Jianwen's Git repository initiated for this project at the very beginning, a simple simulation utilizing trajectory control to navigate a hexacopter in an empty Gazebo world were available.\n",
    "\n",
    "**[Completed]**\n",
    "\n",
    "- Communicate with Jianwen and Reeve to make the problem statements clear and what I would be responsible for. \n",
    "\n",
    "- Configure the ROS environment for the existing simulation scripts and get familiar with the existing control scripts\n",
    "    \n",
    "- Analyze in depth the packages, nodes, topics, msgs used for the simulation. Optimize the launch file for operating the desired quadcopter in Gazebo.\n",
    "    \n",
    "- Get control of basic movements while the initial simulation only supports a pre-assigned trajectory including timestamps, positions, velocities and accelerations. Test the new controller node.\n",
    "\n",
    "- Find or construct Gazebo worlds with obstacles for testing collision avoidance algorithms.\n",
    "\n",
    "- Modify the quadcopter model in Gazebo so that the cameras' views are not blocked by motors\n",
    "\n",
    "**[In Progress]**\n",
    "\n",
    "- Obtain the stereo depth information from two cameras\n",
    "\n",
    "- Search for existing obstacle avoidance algorithms for drones in forests\n",
    "\n",
    "**[Awaiting]**\n",
    "\n",
    "- Develop a specific forest Gazebo world, which would be similar to the implementation environment.\n",
    "\n",
    "- Test existing algorithms in the existing Gazebo worlds and newly development forests environment.\n",
    "\n",
    "- Check if existing algorithms of obstacle avoidance need further development for application in the forests environment.\n",
    "\n",
    "- Implement the developed algorithm on the quadcopter in the lab."
   ]
  },
  {
   "cell_type": "markdown",
   "id": "526f9747",
   "metadata": {},
   "source": [
    "%%latex\n",
    "\\newpage"
   ]
  },
  {
   "cell_type": "markdown",
   "id": "828e7b70",
   "metadata": {},
   "source": [
    "# Completed Work\n",
    "\n",
    "## Get control of basic movements\n",
    "\n",
    "For completing the task of obstacle avoidance, it's necessary to get control of basic movements such as moving forward or backward as a start point. In the initial simulation, a complete trajectory consists\n",
    "of a series of positions, velocities ,accelerations and time stamps was required to control the drone, which might not be fully compatible for obstacle avoidance tasks. Therefore, I searched the existing controllers and added the ***roll pitch yaw rate thrust controller***. \n",
    "\n",
    "It needs to be mentioned that the two controller should not be launched at the same time, otherwise they disturb each other. Whether to directly use ***roll pitch yaw rate thrust controller*** or develop simple trajectories using ***lee position controller*** depends on the collision avoidance algorithm to be implemented."
   ]
  },
  {
   "cell_type": "markdown",
   "id": "3ff13adc",
   "metadata": {},
   "source": [
    "## Gazebo Worlds\n",
    "\n",
    "While the ultimate goal is to simulate and implement obstacle avoidance algorithms in forests environments, the package **Rotors** provides several normal environments which might be useful to test simple obstacle detection algorithms. Here are the available worlds probably be useful for simulation."
   ]
  },
  {
   "cell_type": "markdown",
   "id": "d498199e",
   "metadata": {},
   "source": [
    "- World named **warehouse**"
   ]
  },
  {
   "cell_type": "markdown",
   "id": "83129d44",
   "metadata": {},
   "source": [
    "%%latex\n",
    "\\begin{figure}\n",
    "\\centering\n",
    "\\includegraphics[width=0.6\\textwidth]{Figures/warehouse.png} \n",
    "\\caption{Gazebo world: warehouse}\n",
    "\\label{Fig.main1}\n",
    "\\end{figure}"
   ]
  },
  {
   "cell_type": "markdown",
   "id": "885a6d98",
   "metadata": {},
   "source": [
    "- World named **outdoor**"
   ]
  },
  {
   "cell_type": "markdown",
   "id": "0304cdd4",
   "metadata": {},
   "source": [
    "%%latex\n",
    "\\begin{figure}\n",
    "\\centering\n",
    "\\includegraphics[width=0.6\\textwidth]{Figures/outdoor.png} \n",
    "\\caption{Gazebo world: outdoor}\n",
    "\\label{Fig.main2}\n",
    "\\end{figure}"
   ]
  },
  {
   "cell_type": "markdown",
   "id": "b05ff436",
   "metadata": {},
   "source": [
    "- World named **test_city**"
   ]
  },
  {
   "cell_type": "markdown",
   "id": "33fc9c4c",
   "metadata": {},
   "source": [
    "%%latex\n",
    "\\begin{figure}\n",
    "\\centering\n",
    "\\includegraphics[width=0.6\\textwidth]{Figures/test_city.png} \n",
    "\\caption{Gazebo world: test_city}\n",
    "\\label{Fig.main3}\n",
    "\\end{figure}"
   ]
  },
  {
   "cell_type": "markdown",
   "id": "c9410c27",
   "metadata": {},
   "source": [
    "- World named **waypoint**"
   ]
  },
  {
   "cell_type": "markdown",
   "id": "06fcbf6b",
   "metadata": {},
   "source": [
    "%%latex\n",
    "\\begin{figure}\n",
    "\\centering\n",
    "\\includegraphics[width=0.6\\textwidth]{Figures/waypoint.png} \n",
    "\\caption{Gazebo world: waypoint}\n",
    "\\label{Fig.main4}\n",
    "\\end{figure}"
   ]
  },
  {
   "cell_type": "markdown",
   "id": "b7924153",
   "metadata": {},
   "source": [
    "It needs to be mentioned that some worlds have the **sim_time**, **real_time** and **wall_time** tags in the world definition. Sometimes this would cause the spawn immediately time out as soon as the world actually starts. Setting **sim_time** to 0 would be an easy fix, although the spawn model service is supposed to handle this case.\n",
    "\n",
    "To change the Gazebo world to be opened, edit the argument **world_name** in the beginning of the launch file."
   ]
  },
  {
   "cell_type": "markdown",
   "id": "1ff79751",
   "metadata": {},
   "source": [
    "## Visual Sensors\n",
    "\n",
    "The quadcopter is equipped with the [VI Sensor](https://github.com/ethz-asl/libvisensor) which provides stereo-camera datastreams. Detailed parameters can be viewed [here](https://github.com/ethz-asl/libvisensor/blob/master/VISensor_Factsheet_web.pdf).\n",
    "\n",
    "The initial position of the sensor caused the camera partly blocked by a motor.\n",
    "\n",
    "- Initial view: left camera"
   ]
  },
  {
   "cell_type": "markdown",
   "id": "4d97b399",
   "metadata": {},
   "source": [
    "%%latex\n",
    "\\begin{figure}\n",
    "\\centering\n",
    "\\includegraphics[width=0.6\\textwidth]{Figures/left_camera.png} \n",
    "\\label{Fig.main5}\n",
    "\\end{figure}"
   ]
  },
  {
   "cell_type": "markdown",
   "id": "c192bee9",
   "metadata": {},
   "source": [
    "- Initial view: right camera"
   ]
  },
  {
   "cell_type": "markdown",
   "id": "09a38c58",
   "metadata": {},
   "source": [
    "%%latex\n",
    "\\begin{figure}\n",
    "\\centering\n",
    "\\includegraphics[width=0.6\\textwidth]{Figures/right_camera.png} \n",
    "\\label{Fig.main6}\n",
    "\\end{figure}"
   ]
  },
  {
   "cell_type": "markdown",
   "id": "5fda572f",
   "metadata": {},
   "source": [
    "Therefore, I edited the urdf file of the quadcopter model and modified the position of the sensor.\n",
    "\n",
    "- VI Sensor on the quadcopter."
   ]
  },
  {
   "cell_type": "markdown",
   "id": "76a1c95a",
   "metadata": {},
   "source": [
    "%%latex\n",
    "\\begin{figure}\n",
    "\\centering\n",
    "\\includegraphics[width=0.6\\textwidth]{Figures/VI_Sensor.png} \n",
    "\\label{Fig.main7}\n",
    "\\end{figure}"
   ]
  },
  {
   "cell_type": "markdown",
   "id": "8dd60be6",
   "metadata": {},
   "source": [
    "After the modification, the sensor is no longer blocked by the motors while accurately linked with the quadcopter.\n",
    "\n",
    "- Modified view: left camera"
   ]
  },
  {
   "cell_type": "markdown",
   "id": "9df6b379",
   "metadata": {},
   "source": [
    "%%latex\n",
    "\\begin{figure}\n",
    "\\centering\n",
    "\\includegraphics[width=0.6\\textwidth]{Figures/left_camera2.png} \n",
    "\\label{Fig.main8}\n",
    "\\end{figure}"
   ]
  },
  {
   "cell_type": "markdown",
   "id": "7265bb4c",
   "metadata": {},
   "source": [
    "- Modified view: right camera"
   ]
  },
  {
   "cell_type": "markdown",
   "id": "eafeb52f",
   "metadata": {},
   "source": [
    "%%latex\n",
    "\\begin{figure}\n",
    "\\centering\n",
    "\\includegraphics[width=0.6\\textwidth]{Figures/right_camera2.png} \n",
    "\\label{Fig.main9}\n",
    "\\end{figure}"
   ]
  },
  {
   "cell_type": "markdown",
   "id": "fca5f4ff",
   "metadata": {},
   "source": [
    "To edit the model, modify the file **mav_with_vi_sensor.gazebo**.\n",
    "\n",
    "- Directory: *rotors_simulator/rotors_description/urdf/*"
   ]
  },
  {
   "cell_type": "markdown",
   "id": "63f6e8b3",
   "metadata": {},
   "source": [
    "%%latex\n",
    "\\newpage"
   ]
  },
  {
   "cell_type": "markdown",
   "id": "aa8f09db",
   "metadata": {},
   "source": [
    "# Work In Progress\n",
    "\n",
    "## Obtain accurate depth information\n",
    "\n",
    "While the sensor provide accurate camera outputs, the embedded depth information is somehow wrong and can not be used directly. Here is an example showing that.\n",
    "\n",
    "- Situation: Facing three houses"
   ]
  },
  {
   "cell_type": "markdown",
   "id": "22afa906",
   "metadata": {},
   "source": [
    "%%latex\n",
    "\\begin{figure}\n",
    "\\centering\n",
    "\\includegraphics[width=0.6\\textwidth]{Figures/situation2.png} \n",
    "\\label{Fig.main10}\n",
    "\\end{figure}"
   ]
  },
  {
   "cell_type": "markdown",
   "id": "de0fce70",
   "metadata": {},
   "source": [
    "- View from left camera"
   ]
  },
  {
   "cell_type": "markdown",
   "id": "5f62970f",
   "metadata": {},
   "source": [
    "%%latex\n",
    "\\begin{figure}\n",
    "\\centering\n",
    "\\includegraphics[width=0.6\\textwidth]{Figures/left_camera3.png} \n",
    "\\label{Fig.main11}\n",
    "\\end{figure}"
   ]
  },
  {
   "cell_type": "markdown",
   "id": "292a164e",
   "metadata": {},
   "source": [
    "%%latex\n",
    "\\newpage"
   ]
  },
  {
   "cell_type": "markdown",
   "id": "d7e58e39",
   "metadata": {},
   "source": [
    "- View from right camera"
   ]
  },
  {
   "cell_type": "markdown",
   "id": "91ba1a66",
   "metadata": {},
   "source": [
    "%%latex\n",
    "\\begin{figure}\n",
    "\\centering\n",
    "\\includegraphics[width=0.6\\textwidth]{Figures/right_camera3.png} \n",
    "\\label{Fig.main12}\n",
    "\\end{figure}"
   ]
  },
  {
   "cell_type": "markdown",
   "id": "a0b68b37",
   "metadata": {},
   "source": [
    "- Synthesized depth image"
   ]
  },
  {
   "cell_type": "markdown",
   "id": "b56f7439",
   "metadata": {},
   "source": [
    "%%latex\n",
    "\\begin{figure}\n",
    "\\centering\n",
    "\\includegraphics[width=0.6\\textwidth]{Figures/depth_1.png} \n",
    "\\label{Fig.main13}\n",
    "\\end{figure}"
   ]
  },
  {
   "cell_type": "markdown",
   "id": "983736dd",
   "metadata": {},
   "source": [
    "%%latex\n",
    "\\newpage"
   ]
  },
  {
   "cell_type": "markdown",
   "id": "63d1c76c",
   "metadata": {},
   "source": [
    "- Disparity"
   ]
  },
  {
   "cell_type": "markdown",
   "id": "422c9167",
   "metadata": {},
   "source": [
    "%%latex\n",
    "\\begin{figure}\n",
    "\\centering\n",
    "\\includegraphics[width=0.6\\textwidth]{Figures/depth_2.png} \n",
    "\\label{Fig.main14}\n",
    "\\end{figure}"
   ]
  },
  {
   "cell_type": "markdown",
   "id": "a0369a63",
   "metadata": {},
   "source": [
    "It's obvious that the synthesized depth image is different from the initial views from left camera and right camera. While I haven't find out why the motor occurs in the automatically synthesized image, the disparity shows that the depth information is not correctly detected.\n",
    "\n",
    "If this is not a simulation error which can be debugged, some advanced image processing methods would be required to obtain depth information from left and right images. On the other hand, a different stereo depth camera could be used for this project if available."
   ]
  },
  {
   "cell_type": "markdown",
   "id": "f0daa1e8",
   "metadata": {},
   "source": [
    "## Investigation to existing obstacle detection/avoidance algorithms\n",
    "\n",
    "<strong data-cite=\"7358076\"></strong> proposed an approach based on a deep neural network to output the direction of a trail in forests with only a monocular image. The problem was stated as a supervised machine learning task , where the directions of trails were divided into three classes. The trained DNN achieved an accuracy of 85.2\\% on the test set, which almost outperformed human detections. While the idea of using a deep neural network to predict the directions of trails was novel, it only predicted three possibilities - turn left, go straight, and turn right - instead of more precise angles. In the meantime, the task aiming at detecting trails in forests environments might not be useful for our project since it was not detecting the obstacles. For our UAV, there might not be well-built trails when the UAV is exploring the environment.\n",
    "\n",
    "<strong data-cite=\"8264734\"></strong> proposed a data-driven approach to navigate a drone through the streets of a city. It highlights a convolutional neural network which produces two outputs for each single input image: a steering angle to indicate the direction and a collision probability for obstacle avoidance. The datasets, code and trained networks are available online, while the goal of our project is slightly different. First of all, our target environment is forests while the paper focused on streets in cities. Besides forests are cluttered environments which are much more difficult to segment than city streets, it would be much harder to obtain enough training data for forests environments. In the paper, they used the data collected by cars and bicycles, which would not available in forests environments.\n",
    "\n",
    "<strong data-cite=\"MANNAR2018480\"></strong> demonstrated a project very similar to ours. It presented a control algorithm for quadrotors based on monocular vision that was specially designed for obstacle avoidance in forest environments. The presented algorithm is an enhancement of an existing algorithm uses a weighted combination of texture features to compute distances to nearest obstacle in various longitudinal strips of the image frame. With pre-computed weights by supervised learning in a simulated forest environment, the obstacle-distance estimation accuracy was greatly improved. Probably more investigations to the texture features are needed considering if we determine to use monocular cameras.\n",
    "\n",
    "<strong data-cite=\"8488546\"></strong> described a multimodal sensor fusion approach combining data streams from perception sensors such as LIDAR, RADAR, and cameras. While it improved the robustness of detection and classification performances, the requirement for multiple sensors might not be satisfied by the small quadcopter we're working on. If we finally decide to utilize multiple sensors for this project, the fusion framework building the obstacle map and the feature map could be looked into more carefully.\n",
    "\n",
    "In <strong data-cite=\"pire2019object\"></strong>, a SLAM system for stereo cameras which builds a map of objects in a scene was proposed. The object detection module using a CNN based on Faster-RCNN is of particular interest. The PASCAL dataset and the COCO dataset were used to train the neural network. While the codes are available on [Github](https://github.com/CIFASIS/object-detection-sptam), we might want to consider using forest datasets to train the obstacle detection module. In the meantime, the paper used the CNN not only to predict the bounding box, but also to predict the 3D pose and dimensions, which are not necessary for our project.\n",
    "\n",
    "<strong data-cite=\"9108018\"></strong> presented a real-time obstacle detection system only using a single wide-angle camera. It highlighted an adaptive multi-scale integral image based segmentation algorithm which could be used in various environments. The detection module depended on the segmentation results. I wonder how the algorithm performs in clutter environments such as forests.\n",
    "\n",
    "Obviously, none of the above algorithms can be directly used in our project. With the above investigations, it seems that the best solution is to utilize the stereo camera along with deep learning methods to accurate locate the obstacles like <strong data-cite=\"pire2019object\"></strong>. One challenge is how to obtain the datasets for forest environments to train the neural network while few labeled images for forests are available. Creating a dataset in a simulated forest environment like in <strong data-cite=\"MANNAR2018480\"></strong> is a possible solution. Discussions are needed before the detailed steps can be determined."
   ]
  },
  {
   "cell_type": "markdown",
   "id": "ec283322",
   "metadata": {},
   "source": [
    "%%latex\n",
    "\\newpage"
   ]
  },
  {
   "cell_type": "markdown",
   "id": "6a89f678",
   "metadata": {},
   "source": [
    "# Modified Files\n",
    "\n",
    "Here is a brief summary about the modifications I submitted to Jianwen's github repository.\n",
    "\n",
    "**Edited**:\n",
    "\n",
    "- *hunter_gazebo/CMkaeLists.txt*\n",
    "    - Modified the package dependencies.\n",
    "- *hunter_gazebo/package.xml*\n",
    "    - Modified the package dependencies.\n",
    "- *hunter_gazebo/launch/run_simulation.launch*\n",
    "    - Added detailed comments and deleted non-necessary nodes.\n",
    "- *hunter_gazebo/scripts/follow_waypoints.py*\n",
    "    - Added detailed comments, modified the assigned trajectories.\n",
    "- *rotors_gazebo/worlds/test_city.world*\n",
    "    - Modified the *sim_time* parameter for successful implementation.\n",
    "- *rotors_simulation/rotors_description/urdf/ mav_with_vi_sensor.gazebo*\n",
    "    - Modify the position of vi sensor on the quadcopter.\n",
    "    \n",
    "**Added**:\n",
    "\n",
    "- *hunter_gazebo/launch/obstacle_avoidance.launch*\n",
    "    - A new launch file which initiate a hunter drone with two controllers in the **test_city** world.\n",
    "    - Can be used for further obstacle avoidance tasks.\n",
    "- *hunter_gazebo/scripts/cas_controller.py*\n",
    "    - A test script using both the new controller and the old controller.\n",
    "    - Can be developed for further obstacle avoidance tasks."
   ]
  },
  {
   "cell_type": "markdown",
   "id": "cd155638",
   "metadata": {},
   "source": [
    "%%latex\n",
    "\\newpage"
   ]
  },
  {
   "cell_type": "markdown",
   "id": "0d48b5ac",
   "metadata": {},
   "source": [
    "%%latex\n",
    "\\clearpage\n",
    "\\bibliographystyle{unsrt}\n",
    "\\bibliography{ref}"
   ]
  },
  {
   "cell_type": "markdown",
   "id": "effcb574",
   "metadata": {},
   "source": [
    "%%latex\n",
    "\\newpage"
   ]
  },
  {
   "cell_type": "markdown",
   "id": "dfefbe82",
   "metadata": {},
   "source": [
    "# Appendix I: Messages in this project\n",
    "\n",
    "**``geometry_msgs/Point.msg``**\n",
    "\n",
    "| Type | Name |\n",
    "| :---- | :---- |\n",
    "| *float64* | x |\n",
    "| *float64* | y |\n",
    "| *float64* | z |\n",
    "\n",
    "- Represents the **position** of a point in free space"
   ]
  },
  {
   "cell_type": "markdown",
   "id": "465c4ae9",
   "metadata": {},
   "source": [
    "**``geometry_msgs/Quaternion.msg``**\n",
    "\n",
    "| Type | Name |\n",
    "| :---- | :---- |\n",
    "| *float64* | x |\n",
    "| *float64* | y |\n",
    "| *float64* | z |\n",
    "| *float64* | w |\n",
    "\n",
    "- Represents an **orientation** in free space in **[quaternion](https://en.wikipedia.org/wiki/Quaternion)** form\n",
    "- In short, unit quaternions provide a convenient (though not intuitive) mathematical notation for representing spatial orientations and rotations of elements in three dimensional space\n",
    "- For detailed information, one available reference is the wikipedia taking about *[Quaternions and spatial rotation](https://en.wikipedia.org/wiki/Quaternions_and_spatial_rotation)*"
   ]
  },
  {
   "cell_type": "markdown",
   "id": "4d5f8098",
   "metadata": {},
   "source": [
    "**``geometry_msgs/Pose.msg``**\n",
    "\n",
    "| Type | Name |\n",
    "| :---- | :---- |\n",
    "| *geometry_msgs/Point* | position |\n",
    "| *geometry_msgs/Quaternion* | orientation |\n",
    "\n",
    "- A representation of **pose** in free space, composed of position and orientation"
   ]
  },
  {
   "cell_type": "markdown",
   "id": "418f00ea",
   "metadata": {},
   "source": [
    "%%latex\n",
    "\\newpage"
   ]
  },
  {
   "cell_type": "markdown",
   "id": "030d45e3",
   "metadata": {},
   "source": [
    "**``geometry_msgs/PoseWithCovariance.msg``**\n",
    "\n",
    "| Type | Name |\n",
    "| :---- | :---- |\n",
    "| *geometry_msgs/Pose* | pose |\n",
    "| *float64\\[36\\]* | covariance |\n",
    "\n",
    "- Represent the **pose** in free space **with uncertainty**\n",
    "- The $6 \\times 6$ **covariance matrix** is represented in row-major form\n",
    "- Use a fixed-axis representation for the orientation\n",
    "- In order, the parameters are $$\\left(x,y,z,R,P,Y\\right)$$ \n",
    "    - $R$ stands for *rolling*, meaning the rotation about X axis\n",
    "    - $P$ stands for *pitching*, meaning the rotation about Y axis\n",
    "    - $Y$ stands for *yawing*, meaning the rotation about Z axis"
   ]
  },
  {
   "cell_type": "markdown",
   "id": "c25a59db",
   "metadata": {},
   "source": [
    "**``geometry_msgs/Vector3.msg``**\n",
    "\n",
    "| Type | Name |\n",
    "| :---- | :---- |\n",
    "| *float64* | x |\n",
    "| *float64* | y |\n",
    "| *float64* | z |\n",
    "\n",
    "- Represents a vector in free space\n",
    "- It is only meant to represent a **direction**\n",
    "- It does make sense to apply a translation to it\n",
    "    - When applying a generic rigid transformation to a *Vector3*, only the rotation will be applied"
   ]
  },
  {
   "cell_type": "markdown",
   "id": "8e6b2434",
   "metadata": {},
   "source": [
    "**``geometry_msgs/Twist.msg``**\n",
    "\n",
    "| Type | Name |\n",
    "| :---- | :---- |\n",
    "| *geometry_msgs/Vector3* | linear |\n",
    "| *geometry_msgs/Vector3* | angular |\n",
    "\n",
    "- Expresses **velocity** in free space broken into its linear and angular parts"
   ]
  },
  {
   "cell_type": "markdown",
   "id": "34a492df",
   "metadata": {},
   "source": [
    "%%latex\n",
    "\\newpage"
   ]
  },
  {
   "cell_type": "markdown",
   "id": "a4c08694",
   "metadata": {},
   "source": [
    "**``geometry_msgs/TwistWithCovariance.msg``**\n",
    "\n",
    "| Type | Name |\n",
    "| :---- | :---- |\n",
    "| *geometry_msgs/Twist* | twist |\n",
    "| *float64\\[36\\]* | covariance |\n",
    "\n",
    "- Represent the **velocity** in free space **with uncertainty**\n",
    "- The $6 \\times 6$ **covariance matrix** is represented in row-major form\n",
    "- Use a fixed-axis representation for the orientation\n",
    "- In order, the parameters are $$\\left(x,y,z,R,P,Y\\right)$$ \n",
    "    - $R$ stands for *rolling*, meaning the rotation about X axis\n",
    "    - $P$ stands for *pitching*, meaning the rotation about Y axis\n",
    "    - $Y$ stands for *yawing*, meaning the rotation about Z axis"
   ]
  },
  {
   "cell_type": "markdown",
   "id": "477d10b1",
   "metadata": {},
   "source": [
    "**``geometry_msgs/Transform.msg``**\n",
    "\n",
    "| Type | Name |\n",
    "| :---- | :---- |\n",
    "| *geometry_msgs/Vector3* | translation |\n",
    "| *geometry_msgs/Quaternion* | rotation |\n",
    "\n",
    "- Represent the transform between **two coordinate frames** in free space"
   ]
  },
  {
   "cell_type": "markdown",
   "id": "b2044daf",
   "metadata": {},
   "source": [
    "**``trajectory_msgs/MultiDOFJointTrajectoryPoint.msg``**\n",
    "\n",
    "| Type | Name |\n",
    "| :---- | :---- |\n",
    "| *geometry_msgs/Transform\\[ \\]* | transforms |\n",
    "| *geometry_msgs/Twist\\[ \\]* | velocities |\n",
    "| *geometry_msgs/Twist\\[ \\]* | *accelerations* |\n",
    "| duration | time_from_start |\n",
    "\n",
    "- Represent a fully defined state point for a **multi-joint robot**, including **positions, velocities and accelerations** for for all joints\n",
    "- *``transforms``*: Each multi-dof joint can specify a transform (up to 6 DOF)\n",
    "- *``velocities``*: There can be a velocity specified for the origin of the joint\n",
    "- *``accelerations``*: There can be an acceleration specified for the origin of the joint"
   ]
  },
  {
   "cell_type": "markdown",
   "id": "a70ef695",
   "metadata": {},
   "source": [
    "%%latex\n",
    "\\newpage"
   ]
  },
  {
   "cell_type": "markdown",
   "id": "188f3ef8",
   "metadata": {},
   "source": [
    "**``trajectory_msgs/MultiDOFJointTrajectory.msg``**\n",
    "\n",
    "| Type | Name |\n",
    "| :---- | :---- |\n",
    "| *std_msgs/Header* | header |\n",
    "| *string\\[ \\]* | joint_names |\n",
    "| *trajectory_msgs/MultiDOFJointTrajectoryPoint\\[ \\]* | points |\n",
    "\n",
    "- The *``header``* is used to specify the coordinate frame and the reference time for the trajectory durations\n",
    "- Use a series of fully defined state points to specify a **multi-dof joint trajectory**\n",
    "- The order and length of every point must be same as the order of length as the *``joint_names``* array"
   ]
  },
  {
   "cell_type": "markdown",
   "id": "6c5a9c97",
   "metadata": {},
   "source": [
    "**``std_msgs/Header.msg``**\n",
    "\n",
    "| Type | Name |\n",
    "| :---- | :---- |\n",
    "| *uint32* | seq |\n",
    "| *time* | stamp |\n",
    "| *string* | *frame_id* |\n",
    "\n",
    "- Generally used to communicate **timestamped** data in a **particular coordinate frame**\n",
    "- *``seq``*: Sequence ID, consecutively increasing ID\n",
    "- *``stamp``*: Two-integer timestamp that is expressed s:\n",
    "    - *``stamp.secs``*: seconds (stamp secs) since epoch\n",
    "    - *``stamp.nsecs``*: nanoseconds since stamp_secs\n",
    "- *``frame_id``*: Frame this data is associated with"
   ]
  },
  {
   "cell_type": "markdown",
   "id": "075b4e39",
   "metadata": {},
   "source": [
    "**``nav_msgs.msg.Odometry``**\n",
    "\n",
    "| Type | Name |\n",
    "| :----------------------- | :--------------- |\n",
    "| *std_msgs/Header* | header |\n",
    "| *string* | child_frame_id |\n",
    "| *geometry_msgs/PoseWithCovariance* | pose |\n",
    "| *geometry_msgs/TwistWithCovariance* | twist |\n",
    "\n",
    "- Represents an **estimate** of a **position and velocity** in free space\n",
    "- *``pose``* should be specified in the coordinate frame given by *``header.frame_id``*\n",
    "- *``twist``* should be specified in the coordinate frame given by the *``child_frame_id``*"
   ]
  },
  {
   "cell_type": "markdown",
   "id": "5e7da6ab",
   "metadata": {},
   "source": [
    "%%latex\n",
    "\\newpage"
   ]
  },
  {
   "cell_type": "markdown",
   "id": "007e84f6",
   "metadata": {},
   "source": [
    "# Appendix II: ROS Quick Review and Commands\n",
    "\n",
    "## ROS Workspace\n",
    "\n",
    "### Catkin Workspaces\n",
    "\n",
    "- A catkin workspace is a folder where you modify, build and install catkin packages.\n",
    "\n",
    "- Usually a catkin workspace (uniformly named *catkin_ws*) consists of three spaces: *build*, *devel*, *src*.\n",
    "    - *src*: The source space contains the source code of catkin packages. This is where the source code for the packages can be edited.\n",
    "    - *build*: The build space is where CMake is invoked to build the catkin packages in the source space. Some cache information and other immediate files of CMake and catkin are kept here.\n",
    "    - *devel*: The development space is where built targets are placed prior to being installed, which provides a useful testing and development environment which does not require invoking the installation step.\n",
    "    - *install*: THe install space is where the built targets are installed and is usually not used in development.\n",
    "    \n",
    "- Detailed information can be found [here](http://wiki.ros.org/catkin/workspaces).\n",
    "\n",
    "### Commonly used commands\n",
    "\n",
    "*``source /opt/ros/<distro>/setup.zsh``* \n",
    "\n",
    "- Set up the environment variables for ROS. \n",
    "\n",
    "- Necessary on every new shell.\n",
    "\n",
    "*``printenv | prep ROS``*\n",
    "\n",
    "- Check the currently activated ROS environments.\n",
    "\n",
    "- Especially useful when multiple versions of ROS are installed.\n",
    "\n",
    "*``catkin_make``*\n",
    "\n",
    "- A convenience tool for building code in a catkin workspaces.\n",
    "\n",
    "- Need to be called in the root of the desired catkin workspace.\n",
    "\n",
    "- Running it the first time in the workspace, it will create a *CMakeLists.txt* in the *src* folder. Previously this is a separate step completed by *``catkin_init_workspace``*.\n",
    "\n",
    "*``source devel/setup.bash``*\n",
    "\n",
    "- Overlay the workspace on top of the environment.\n",
    "\n",
    "- Can be checked by viewing the *ROS_PACKAGE_PATH* environment: *``echo $ROS_PACKAGE_PATH``*."
   ]
  },
  {
   "cell_type": "markdown",
   "id": "d4d218c2",
   "metadata": {},
   "source": [
    "%%latex\n",
    "\\newpage"
   ]
  },
  {
   "cell_type": "markdown",
   "id": "674556cc",
   "metadata": {},
   "source": [
    "## ROS Filesystem\n",
    "\n",
    "### Packages\n",
    "\n",
    "- *Packages* are the **software organization unit** of ROS code.\n",
    "\n",
    "- Each *package* can contain libraries, executables, scripts, or other artifacts.\n",
    "\n",
    "### Manifests\n",
    "\n",
    "- A *manifest* is a **description** of a package.\n",
    "\n",
    "- It serves to define dependencies between *packages* and to capture meta information about the *package* like version, maintainer, licenses, etc...\n",
    "\n",
    "### Commonly used commands\n",
    "\n",
    "- *``rospack find [package_name]``* returns the path to package. Other useful commands for *rospack* can be viewed [here](https://docs.ros.org/en/independent/api/rospkg/html/rospack.html).\n",
    "\n",
    "- *``rospack depends1 [package_name]``* finds the **first-order** dependencies of a given package.\n",
    "\n",
    "- *``rospack depends [package_name]``* finds all the nested dependencies of a given package.\n",
    "\n",
    "- *``roscd <package>[/subdir]``* changes directory directly to a package or a subdirectory of a package.\n",
    "\n",
    "- *``roscd log``* changes directory to the folder where ROS stores log files.\n",
    "\n",
    "- *``rosls <package>[/subdir]``* will *ls* directly in a package or a subdirectory of a package."
   ]
  },
  {
   "cell_type": "markdown",
   "id": "c3ed7cfb",
   "metadata": {},
   "source": [
    "%%latex\n",
    "\\newpage"
   ]
  },
  {
   "cell_type": "markdown",
   "id": "c6ea258a",
   "metadata": {},
   "source": [
    "## ROS Graph Concepts\n",
    "\n",
    "### Nodes\n",
    "\n",
    "- A node is an executable file within a ROS package. \n",
    "\n",
    "- A node uses ROS to communicate with other nodes.\n",
    "\n",
    "- ROS client libraries allow nodes written in different programming languages to communicate:\n",
    "    - rospy = python client library\n",
    "    - roscpp = python c++ client library\n",
    "\n",
    "### Messages\n",
    "\n",
    "- ROS data type used when subscribing or publishing to a topic.\n",
    "\n",
    "### Topics\n",
    "\n",
    "- Nodes can *publish* messages to a topic as well as *subscribe* to a topic to receive messages.\n",
    "\n",
    "### Services\n",
    "\n",
    "- Another way that nodes can communicate with each other.\n",
    "\n",
    "- Service allow nodes to send a *request* and receive a *response*.\n",
    "\n",
    "### Master\n",
    "\n",
    "- Name service for ROS which helps nodes find each other.\n",
    "\n",
    "### rosout\n",
    "\n",
    "- ROS equivalent of stdout/stderr.\n",
    "\n",
    "### Parameter server\n",
    "\n",
    "- Nodes use parameter to store and retrieve parameters at runtime.\n",
    "\n",
    "- Best used for static, non-binary data such as configuration parameters.\n",
    "\n",
    "### roscore\n",
    "\n",
    "- Master + rosout + parameter server."
   ]
  },
  {
   "cell_type": "markdown",
   "id": "ae453479",
   "metadata": {},
   "source": [
    "%%latex\n",
    "\\newpage"
   ]
  },
  {
   "cell_type": "markdown",
   "id": "dc6b8ee3",
   "metadata": {},
   "source": [
    "## ROS Graph Commands\n",
    "\n",
    "For all ros commands, a *``-h``* argument can always be used to see the help documentation about advanced usages.\n",
    "\n",
    "### roscore\n",
    "\n",
    "- *``roscore``* is the **first** thing one should run when using ROS.\n",
    "\n",
    "- Only one roscore can be running.\n",
    "\n",
    "### rosnode\n",
    "\n",
    "- *``rosnode list``* lists the ROS nodes that are currently running.\n",
    "\n",
    "- *``rosnode info [/node_name]``* returns information (publications, subscriptions, services, etc...) about a specific node.\n",
    "\n",
    "### rosrun\n",
    "\n",
    "- *``rosrun [package_name] [node_name]``* run a node from a given package.\n",
    "\n",
    "### rostopic\n",
    "\n",
    "- *``rostopic list -v``* list full details about each topic.\n",
    "\n",
    "- *``rostopic echo [topic]``* shows the data published on a given topic.\n",
    "\n",
    "- *``rostopic type [topic]``* returns the message type of a given topic.\n",
    "\n",
    "- *``rostopic pub [topic] [msg_type] [args]``* publishes data on to a topic currently advertised.\n",
    "\n",
    "- *``rostopic hz [topic]``* reports the rate at which data is published.\n",
    "\n",
    "### rosmsg\n",
    "\n",
    "- *``rosmsg show [msg_type]``* shows the details of a given message.\n",
    "\n",
    "### rossrv\n",
    "\n",
    "- *``rossrc show [service type]``* shows the details of a given service.\n",
    "\n",
    "### rosservice\n",
    "\n",
    "- *``rosservice list``* prints information about active services.\n",
    "\n",
    "- *``rosservice type [service]``* prints the type of a given service.\n",
    "\n",
    "- *``rosservice call [service] [args]``* calls the service with the provided args.\n",
    "\n",
    "### rosparam\n",
    "\n",
    "- *``rosparam list``* list the parameters on the Parameter Server.\n",
    "\n",
    "- *``rosparam set [param_name] [args]``* set the given parameter with provided args.\n",
    "\n",
    "- *``rosparam get [param_name]``* get the values of a given parameter.\n",
    "\n",
    "- *``rosparam get /``* will show the contents of the entire Parameter Server.\n",
    "\n",
    "- *``rosparam dump [file_name] [namespace]``* writes all the parameters to the given file.\n",
    "\n",
    "- *``rosparam load [file_name] [namespace]``* load the parameters to a given namespace from the provided file.\n",
    "\n",
    "### rqt\n",
    "\n",
    "- *``rqt``* will open rqt's the main window.\n",
    "\n",
    "- *``rosrun rqt_graph rqt_graph``* creates a dynamic graph of what's going on in the system.\n",
    "\n",
    "- *``rosrun rqt_plot rqt_plot``* displays a scrolling time plot of the data published on topics."
   ]
  },
  {
   "cell_type": "markdown",
   "id": "cd3820d5",
   "metadata": {},
   "source": [
    "%%latex\n",
    "\\newpage"
   ]
  },
  {
   "cell_type": "markdown",
   "id": "7154e9ee",
   "metadata": {},
   "source": [
    "## Customize a ROS package\n",
    "\n",
    "### Basic Structure\n",
    "\n",
    "- The package must contain a catkin compliant **package.xml** file, which provides meta information about the package.\n",
    "\n",
    "- The package must contain a **CMakeLists.txt** which uses catkin.\n",
    "\n",
    "- Each package must have its own folder.\n",
    "\n",
    "- Usually use a catkin workspace to work with catkin packages.\n",
    "\n",
    "### Creating a catkin Package\n",
    "\n",
    "- In the source space of a catkin workspace, use the command *``catkin_create_pkg <package_name> [depend1] [depend2] [depend3] ...``* to initialize a catkin package. Advanced functionalities of *catkin_create_pkg* can be found [here](http://wiki.ros.org/catkin/commands/catkin_create_pkg).\n",
    "\n",
    "### Customize package.xml\n",
    "\n",
    "- **Format**\n",
    "    - *``<package format=\"2\">......</package>``*\n",
    "    \n",
    "- **Name**\n",
    "    - *``<name>package name</name>``*\n",
    "    \n",
    "- **Version**\n",
    "    - *``<version>package version</version>``*\n",
    "\n",
    "- **Description** \n",
    "    - *``<description>Write the descriptions of the package here</description>``*\n",
    "\n",
    "- **Maintainer** \n",
    "    - *``<maintainer email=\"example@example.com\">name</maintainer>``* \n",
    "    - Multiple maintainers are allowed.\n",
    "\n",
    "- **License** \n",
    "    - *``<license>license type<license>``*\n",
    "\n",
    "- **Build Tool Dependencies** \n",
    "    - *``<buildtool_depend>catkin</buildtool_depend>``*\n",
    "    - Specify build system tools which this package needs to build itself. Typically only *catkin* is needed.\n",
    "    \n",
    "- **Build Dependencies:**\n",
    "    - *``<build_depend>package</build_depend>``*\n",
    "    - Specify the packages needed at compile time, such as including headers from the package, linking against libraries from the package or requiring any other resource at build time.\n",
    "\n",
    "- **Build Export Dependencies** \n",
    "    - *``<build_export_depend>package</build_export_depend>``*\n",
    "    - Specify the packages needed to build libraries against this package. Usually used when transitively including the headers in public headers in this package.\n",
    "    \n",
    "- **Execution Dependencies** \n",
    "    - *``<exec_depend>package</exec_depend>``*\n",
    "    - Specify which packages are needed to run code in this package. Usually used when depending on shared libraries in this package.\n",
    "    \n",
    "- **Test Dependencies**\n",
    "    - *``<test_depend>package</test_depend>``*\n",
    "    - Specify only additional dependencies for unit tests.\n",
    "\n",
    "- **Documentation Toll Dependencies**\n",
    "    - *``<doc_depend>package</doc_depend>``*\n",
    "    - Specify documentation tools which this package needs to generate documentation.\n",
    "    \n",
    "- **Dependencies**\n",
    "    - *``<depend>package</depend>``*\n",
    "    - Specify that a dependency is a build, export, and execution dependency.\n",
    "    - The most commonly used dependency tag.\n",
    "    \n",
    "### Customize CMakeLists.txt\n",
    "\n",
    "- **Required CMake Version**\n",
    "    - *``cmake_minumum_required(VERSION 2.8.3)``*\n",
    "    - Catkin requires version 2.8.3 or higher.\n",
    "    \n",
    "- **Package Name**\n",
    "    - *``project(proj_name)``*\n",
    "    - Use the variable *``${PROJECT_NAME}``* to reference this project name in the CMake script\n",
    "\n",
    "- **Finding Dependent CMake Packages**\n",
    "    - *``find_package(catkin REQUIRED COMPONENTS [depend1] [depend2] ...)``*\n",
    "    - If a package is found by CMake through find_package, it results in the creation of several CMake environment variables that give information about the found package.\n",
    "    - For catkin packages, if one *``find_package``* them as components of catkin, this is advantageous as a single set of environment variables is created with the *``catkin_``* prefix.\n",
    "    \n",
    "- **Enable Python module support**\n",
    "    - *``catkin_python_setup()``*\n",
    "    - Required when the package provides some Python modules. In this case, a **setup.py** is also required.\n",
    "    \n",
    "- **Message/Service/Action Generators**\n",
    "    - Messages (.msg), services (.srv), and actions (.action) files in ROS require a special preprocessor build step before being built and used by ROS packages.\n",
    "    - *``add_message_files(FILES [msg1] [msg2] ...)``*\n",
    "    - *``add_service_files(FILES [srv1] [srv2] ...)``*\n",
    "    - *``add_action_files(FILES [action1] [action2] ...)``*\n",
    "    \n",
    "- **Invoke message/service/action generation**\n",
    "    - *``generate_messages(...)``*\n",
    "    -  Required if any message/service/action files are to be built and used by ROS packages.\n",
    "\n",
    "- **Specify package build info export**\n",
    "    - *``catkin_package(...)``*\n",
    "    - Argument *``INCLUDE_DIRS``*: The exported include paths for the package.\n",
    "    - Argument *``LIBRARIES``*: The exported libraries from the project.\n",
    "    - Argument *``CATKIN_DEPENDS``*: Other catkin projects that this project depends on.\n",
    "    - Argument *``DEPENDS``*: Non-catkin CMake projects that this project depends on.\n",
    "    - Argument *``CFG_EXTRAS``*: Additional configuration options."
   ]
  },
  {
   "cell_type": "markdown",
   "id": "6947cb93",
   "metadata": {},
   "source": [
    "%%latex\n",
    "\\newpage"
   ]
  },
  {
   "cell_type": "markdown",
   "id": "7e253a47",
   "metadata": {},
   "source": [
    "## Customize a ROS msg and srv\n",
    "\n",
    "### msg file\n",
    "\n",
    "- msg files are simple text files that describe the fields of a ROS message. They are used to generate source code for messages in different languages.\n",
    "- msg files are stored in the *msg* directory of a package.\n",
    "- msgs are text files with a field type and field name per line. Available filed types are:\n",
    "    - Header\n",
    "    - int8, int16, int32, int64\n",
    "    - float32, float64\n",
    "    - string\n",
    "    - time, duration\n",
    "    - other msg files\n",
    "    - variable-length array\\[\\] and fixed-length array\\[C\\]\n",
    "- Header is a special type in ROS, which contains a timestamp and coordinate frame information that are commonly used in ROS.\n",
    "\n",
    "### srv file\n",
    "- An srv file describes a service. It is composed of two parts: a request and a response.\n",
    "- srv files are stored in the *srv* directory of a package.\n",
    "- srv files are similar to msg files, except they contain two parts: a request and a response. The two parts are separated by a '---' line.\n",
    "    - The request part is above the '---' line.\n",
    "    - The response part is below the '---' line.\n",
    "\n",
    "### Create a msg\n",
    "\n",
    "#### Write the definition\n",
    "\n",
    "- The first step is to create a file in the form 'Msg_Name.msg' in the *msg* directory and write the field types and field names.\n",
    "\n",
    "#### Edit the package.xml to set up dependencies\n",
    "\n",
    "- To make sure the msg files are turned into source code for C++, Python, and other languages, edit **package.xml** to add a build dependency on **message_generation** and a execution dependency on **message_runtime**.\n",
    "\n",
    "#### Edit CMakeLists.txt correspondingly\n",
    "\n",
    "- Similarly, add the **message_generation** dependency to the *``find_package()``* call in the **CMakeLists.txt** to generate messages. Usually, simply adding **message_generation** to the list of *COMPONENTS* works.\n",
    "- Also make sure to export the **message_runtime** dependency by adding it to the *``catkin_package()``* call in the argument *``CATKIN_DEPENDS``*\n",
    "- Uncomment the block of codes *``add_message_files(FILES [msg1] [msg2] ...)``* and fill in the custom msg filenames so that CMake knows when it has to reconfigure reconfigure the project after you add other .msg files.\n",
    "- Uncomment the block of codes *``generate_messages(DEPENDENCIES [depend_msg1] [depend_msg2] ...)``* and fill in any msgs the custom msg file depends on.\n",
    "\n",
    "#### Make the package again\n",
    "\n",
    "- Change directory to the source space and execute *``catkin_make``* command. Any .msg file in the *msg* directory will generate code for use in all supported languages. \n",
    "\n",
    "### Create a srv\n",
    "\n",
    "#### Write the definition\n",
    "\n",
    "- The first step is to create a file in the form 'Service_Name.srv' in the *srv* directory and write the field types and field names. \n",
    "- Remember a srv file has a request part and a response part divided by a '---' line.\n",
    "- One cannot embed another .srv inside of a .srv like writing msg files.\n",
    "\n",
    "#### Edit the package.xml to set up dependencies\n",
    "\n",
    "- To make sure the msg files are turned into source code for C++, Python, and other languages, edit **package.xml** to add a build dependency on **message_generation** and a execution dependency on **message_runtime**.\n",
    "- This step is exactly the same as what is needed for creating a msg file and do not need to be repeated if has been done.\n",
    "\n",
    "#### Edit CMakeLists.txt correspondingly\n",
    "\n",
    "- Similarly, add the **message_generation** dependency to the *``find_package()``* call in the **CMakeLists.txt** to generate messages. Usually, simply adding **message_generation** to the list of *COMPONENTS* works. Despite its name, **message_generation** works for both msg and srv.\n",
    "- Also make sure to export the **message_runtime** dependency by adding it to the *``catkin_package()``* call in the argument *``CATKIN_DEPENDS``*\n",
    "- Uncomment the block of codes *``add_service_files(FILES [srv1] [srv2] ...)``* and fill in the custom srv filenames.\n",
    "- Uncomment the block of codes *``generate_messages(DEPENDENCIES [depend_msg1] [depend_msg2] ...)``* and fill in any msgs the custom srv file depends on.\n",
    "\n",
    "#### Make the package again\n",
    "\n",
    "- Change directory to the source space and execute *``catkin_make``* command. Any .srv file in the *srv* directory will generate code for use in all supported languages. "
   ]
  },
  {
   "cell_type": "markdown",
   "id": "ad38578f",
   "metadata": {},
   "source": [
    "%%latex\n",
    "\\newpage"
   ]
  },
  {
   "cell_type": "markdown",
   "id": "349c54bc",
   "metadata": {},
   "source": [
    "## rospy\n",
    "\n",
    "### Initialization\n",
    "\n",
    "#### Python Script Declaration"
   ]
  },
  {
   "cell_type": "code",
   "execution_count": null,
   "id": "af3ae270",
   "metadata": {},
   "outputs": [],
   "source": [
    "#!/usr/bin/env python"
   ]
  },
  {
   "cell_type": "markdown",
   "id": "edf8b1f5",
   "metadata": {},
   "source": [
    "- This first line makes sure the script is executed as a Python script.\n",
    "\n",
    "#### Initialize a ROS Node"
   ]
  },
  {
   "cell_type": "code",
   "execution_count": null,
   "id": "d610af8d",
   "metadata": {},
   "outputs": [],
   "source": [
    "rospy.init_node('node_name')"
   ]
  },
  {
   "cell_type": "markdown",
   "id": "02df746b",
   "metadata": {},
   "source": [
    "- When no arguments are provided, the node name must be **unique**.\n",
    "- Argument *``anonymous = True``* can be used  if one does not care about the unique name of one node.\n",
    "- Argument *``log_level=rospy.INFO``* can be used to edit the log level for publishing log messages to *rosout*.\n",
    "- Argument *``disable_signals = True``* can be used if one does not want the node end on *``Ctrl-C``*.\n",
    "\n",
    "#### Accessing command-line arguments"
   ]
  },
  {
   "cell_type": "code",
   "execution_count": null,
   "id": "6b57322a",
   "metadata": {},
   "outputs": [],
   "source": [
    "rospy.myargv(argv=sys.argv)"
   ]
  },
  {
   "cell_type": "markdown",
   "id": "d9f3c868",
   "metadata": {},
   "source": [
    "- Returns a copy of *sys.argv* with remapping arguments removed.\n",
    "\n",
    "#### Shutting down\n",
    "\n",
    "- The most common usage is:"
   ]
  },
  {
   "cell_type": "code",
   "execution_count": null,
   "id": "c359d0c9",
   "metadata": {},
   "outputs": [],
   "source": [
    "while not rospy.is_shutdown():\n",
    "    do some work"
   ]
  },
  {
   "cell_type": "markdown",
   "id": "5535052c",
   "metadata": {},
   "source": [
    "- Another way is to use *``rospy.spin()``* make the node sleep until the *``is_shutdown()``* flag is *``True``*."
   ]
  },
  {
   "cell_type": "code",
   "execution_count": null,
   "id": "9179857a",
   "metadata": {},
   "outputs": [],
   "source": [
    "... setup callbacks\n",
    "rospy.spin()"
   ]
  },
  {
   "cell_type": "markdown",
   "id": "c28b606f",
   "metadata": {},
   "source": [
    "#### ROS Rate\n",
    "\n",
    "- rospy.Rate() is a class which helps conveniently maintaining a particular rate for a loop."
   ]
  },
  {
   "cell_type": "code",
   "execution_count": null,
   "id": "ddce77ca",
   "metadata": {},
   "outputs": [],
   "source": [
    "rate = rospy.Rate(10) #10Hz\n",
    "while not rospy.is_shutdown():\n",
    "    do some work\n",
    "    rate.sleep()"
   ]
  },
  {
   "cell_type": "markdown",
   "id": "90ed75b8",
   "metadata": {},
   "source": [
    "### Message\n",
    "\n",
    "#### Message generation\n",
    "\n",
    "- The .msg files are coded into python classes and need to be imported."
   ]
  },
  {
   "cell_type": "code",
   "execution_count": null,
   "id": "23cb0301",
   "metadata": {},
   "outputs": [],
   "source": [
    "# There are two ways of importing\n",
    "import std_msgs.msg\n",
    "from std_msgs.msg import String"
   ]
  },
  {
   "cell_type": "markdown",
   "id": "c5f98ccc",
   "metadata": {},
   "source": [
    "#### Message initialization\n",
    "\n",
    "- **No arguments**"
   ]
  },
  {
   "cell_type": "code",
   "execution_count": null,
   "id": "7db7a32d",
   "metadata": {},
   "outputs": [],
   "source": [
    "msg = std_msgs.msg.String()\n",
    "msg.data = \"hello world\""
   ]
  },
  {
   "cell_type": "markdown",
   "id": "d44f9ac8",
   "metadata": {},
   "source": [
    "- **In-order arguments(\\*args)**\n",
    "    - In this case, a value for all of the fields must be provided, in order."
   ]
  },
  {
   "cell_type": "code",
   "execution_count": null,
   "id": "ec5df96a",
   "metadata": {},
   "outputs": [],
   "source": [
    "msg = std_msgs.msg.ColorRGBA(255.0, 255.0, 255.0, 128.0)"
   ]
  },
  {
   "cell_type": "markdown",
   "id": "fda98741",
   "metadata": {},
   "source": [
    "- **Keyword arguments(\\*\\*kwds)**\n",
    "    - In this case, only the fields that values of which are provided will be initialized while the rest receive default values."
   ]
  },
  {
   "cell_type": "code",
   "execution_count": null,
   "id": "e2399af0",
   "metadata": {},
   "outputs": [],
   "source": [
    "msg = std_msgs.msg.ColorRGBA(b=255.0)"
   ]
  },
  {
   "cell_type": "markdown",
   "id": "d59e3ed9",
   "metadata": {},
   "source": [
    "### Publishers and Subscribers\n",
    "\n",
    "#### Publisher Initialization\n",
    "\n",
    "- The only requirements to create a rospy.Publisher are the topic name, the Message class and the queue size."
   ]
  },
  {
   "cell_type": "code",
   "execution_count": null,
   "id": "5078c52e",
   "metadata": {},
   "outputs": [],
   "source": [
    "pub = rospy.Publisher('topic_name', std_msgs.msg.String, queue_size=10)"
   ]
  },
  {
   "cell_type": "markdown",
   "id": "99ffc07d",
   "metadata": {},
   "source": [
    "#### Use a Publisher to publish\n",
    "\n",
    "- **Explicit Style**"
   ]
  },
  {
   "cell_type": "code",
   "execution_count": null,
   "id": "6ef0d4a3",
   "metadata": {},
   "outputs": [],
   "source": [
    "pub.publish(std_msgs.msg.String(\"hello world\"))"
   ]
  },
  {
   "cell_type": "markdown",
   "id": "4d6e422b",
   "metadata": {},
   "source": [
    "- **Implicit style with in-order arguments**\n",
    "    - In this case, a value for all of the fields must be provided, in order."
   ]
  },
  {
   "cell_type": "code",
   "execution_count": null,
   "id": "bcbf4e31",
   "metadata": {},
   "outputs": [],
   "source": [
    "pub.publish(255.0, 255.0, 255.0, 128.0)"
   ]
  },
  {
   "cell_type": "markdown",
   "id": "935a99e2",
   "metadata": {},
   "source": [
    "- **Implicit style with keyword arguments**\n",
    "    - In this case, only the fields that values of which are provided will be initialized while the rest receive default values."
   ]
  },
  {
   "cell_type": "code",
   "execution_count": null,
   "id": "7f610a36",
   "metadata": {},
   "outputs": [],
   "source": [
    "pub.publish(b=255)"
   ]
  },
  {
   "cell_type": "markdown",
   "id": "e26deecc",
   "metadata": {},
   "source": [
    "#### queue_size behavior and queuing\n",
    "\n",
    "- *``publish()``* in rospy is **synchronous** by default\n",
    "- To use **asynchronous** publishing behavior, the keyword argument *``queue_size``* must be passed to *``subscribe``* which defines the maximum queue size before messages are being dropped.\n",
    "- This asynchronous behavior ensures that only the subscribers having connectivity problems will not receive new messages.\n",
    "\n",
    "#### Selecting a good queue_size\n",
    "\n",
    "- It is recommended to pick a value which is bigger than it needs to be rather than a too small value.\n",
    "- Selecting the queue size should take the loop rate into consideration.\n",
    "- Setting the *queue_size* to be 1 is a good choice when only the latest published information is wanted.\n",
    "- Setting the *queue_size* to be 10 or greater is a good choice when any changes in value are wanted and need to be recorded.\n",
    "\n",
    "#### Use a subscriber\n",
    "\n",
    "- Use subscriber to subscribe to a given topic with desired message type. The received messages would be the first argument of the callback function."
   ]
  },
  {
   "cell_type": "code",
   "execution_count": null,
   "id": "92ec6ac2",
   "metadata": {},
   "outputs": [],
   "source": [
    "def callback(data):\n",
    "    do some work to received data\n",
    "\n",
    "rospy.Subscriber(\"topic_name\", msg_type, callback)"
   ]
  },
  {
   "cell_type": "markdown",
   "id": "f8a64c97",
   "metadata": {},
   "source": [
    "### Service and Client\n",
    "\n",
    "For detailed information, refer to the [ROS wiki](http://wiki.ros.org/rospy/Overview/Services).\n",
    "\n",
    "#### Service definitions, request messages, and response messages\n",
    "\n",
    "- rospy converts .srv files into Python source code and creates three classes. If the .srv file is *``package/srv/Service1.srv``*, then the classes would be:\n",
    "    - Service Definitions *``package.srv.Service1``*\n",
    "    - Request Messages *``package.srv.Service1Request``*\n",
    "    - Response Messages *``package.srv.Service1Response``*\n",
    "- Service Definition \n",
    "    - A container for the request and response type.\n",
    "    - Must be used whenever one create or call a service.\n",
    "- Service Request Messages\n",
    "    - The request message is used to call the appropriate service.\n",
    "    - Typically one does not need to use the request message directly.\n",
    "- Service Response Messages\n",
    "    - The response message is used to contain the return value from the appropriate service.\n",
    "    - Service handlers must return response messages instances of the correct type.\n",
    "    \n",
    "#### Client Node: Calling services\n",
    "\n",
    "**Service proxies**\n",
    "\n",
    "- In ROS, call a service by creating a *``rospy.ServiceProxy``* instance with the name of the service to be called.\n",
    "    - The instance is callable and can be invoked like methods.\n",
    "- Before creating a proxy, one often will want to block until the service is available.\n",
    "\n",
    "**Exceptions**\n",
    "\n",
    "- If a service returns an error for the request, a *``rospy.ServiceException``* will be raised. The exception would contain any error messages that the service sent.\n",
    "    - *``TypeError``*: Request is not of the valid type.\n",
    "    - *``ServiceException``*: Communication with remote service failed.\n",
    "    - *``ROSSerializationException``*: This usually indicates a type error with one of the fields."
   ]
  },
  {
   "cell_type": "code",
   "execution_count": null,
   "id": "f97e3ea0",
   "metadata": {},
   "outputs": [],
   "source": [
    "rospy.wait_for_service(\"service_name\", timeout=None)\n",
    "proxy = rospy.ServiceProxy(\"service_name\", service_class, persistent=False, headers=None)\n",
    "try:\n",
    "    response = proxy(request_message_data)\n",
    "except rospy.ServiceException as exc:\n",
    "    print(\"Service did not process request: \" + str(exc))"
   ]
  },
  {
   "cell_type": "markdown",
   "id": "728fbcbd",
   "metadata": {},
   "source": [
    "**Explicit style**\n",
    "\n",
    "- Create the *\\*Request* instance and pass it to proxy"
   ]
  },
  {
   "cell_type": "code",
   "execution_count": null,
   "id": "9412afa0",
   "metadata": {},
   "outputs": [],
   "source": [
    "request = package.srv.Service1Request(request_message_data)\n",
    "response = proxy(request)"
   ]
  },
  {
   "cell_type": "markdown",
   "id": "d765aac7",
   "metadata": {},
   "source": [
    "**Implicit style with in-order arguments**\n",
    "\n",
    "- In the in-order style, a new Message instance will be created with the arguments provided, in order.\n",
    "- In this case, a value for all of the fields must be provided, in order."
   ]
  },
  {
   "cell_type": "code",
   "execution_count": null,
   "id": "f3ccf1c5",
   "metadata": {},
   "outputs": [],
   "source": [
    "response = proxy(request_message_data)"
   ]
  },
  {
   "cell_type": "markdown",
   "id": "acbf1288",
   "metadata": {},
   "source": [
    "**Implicit style with keyword arguments**\n",
    "\n",
    "- In this case, only the fields that values of which are provided will be initialized while the rest receive default values."
   ]
  },
  {
   "cell_type": "code",
   "execution_count": null,
   "id": "f609a6a9",
   "metadata": {},
   "outputs": [],
   "source": [
    "response = proxy(arg1 = ...)"
   ]
  },
  {
   "cell_type": "markdown",
   "id": "0482893f",
   "metadata": {},
   "source": [
    "**Persistent connections**\n",
    "\n",
    "- With a persistent connection, a client stays connected to a service. Otherwise, a client normally does a lookup and reconnects to a service each time.\n",
    "- A persistent connection greatly improve performance for repeated requests while also makes the client more fragile to service failures.\n",
    "- Clients using persistent connections should implement their own reconnection logic in the event that the persistent connection fails.\n",
    "\n",
    "#### Service Node: Providing services\n",
    "\n",
    "***``rospy.Service``* instance**\n",
    "\n",
    "- In ROS, provide a Service by creating a *``rospy.Service``* instance with a callback to invoke when new requests are received.\n",
    "- Each inbound request is handled in its own thread, so services must be thread-safe.\n",
    "- Remember to return some data according to the definition of *``package.srv.Service1Response``*."
   ]
  },
  {
   "cell_type": "code",
   "execution_count": null,
   "id": "bd8a748a",
   "metadata": {},
   "outputs": [],
   "source": [
    "def handler(request_messsage_data):\n",
    "    response to income requests\n",
    "    \n",
    "def Service1_server():\n",
    "    rospy.init_node(\"Service1_server\")\n",
    "    server = rospy.Service(\"service_name\", service_class, handler, buff_size=65536)\n",
    "    rospy.spin()"
   ]
  }
 ],
 "metadata": {
  "kernelspec": {
   "display_name": "Python 3 (ipykernel)",
   "language": "python",
   "name": "python3"
  },
  "language_info": {
   "codemirror_mode": {
    "name": "ipython",
    "version": 3
   },
   "file_extension": ".py",
   "mimetype": "text/x-python",
   "name": "python",
   "nbconvert_exporter": "python",
   "pygments_lexer": "ipython3",
   "version": "3.8.12"
  },
  "latex_envs": {
   "LaTeX_envs_menu_present": true,
   "autoclose": false,
   "autocomplete": true,
   "bibliofile": "biblio.bib",
   "cite_by": "apalike",
   "current_citInitial": 1,
   "eqLabelWithNumbers": true,
   "eqNumInitial": 1,
   "hotkeys": {
    "equation": "Ctrl-E",
    "itemize": "Ctrl-I"
   },
   "labels_anchors": false,
   "latex_user_defs": false,
   "report_style_numbering": false,
   "user_envs_cfg": false
  },
  "toc": {
   "base_numbering": 1,
   "nav_menu": {},
   "number_sections": true,
   "sideBar": true,
   "skip_h1_title": false,
   "title_cell": "Table of Contents",
   "title_sidebar": "Contents",
   "toc_cell": false,
   "toc_position": {},
   "toc_section_display": true,
   "toc_window_display": false
  },
  "varInspector": {
   "cols": {
    "lenName": 16,
    "lenType": 16,
    "lenVar": 40
   },
   "kernels_config": {
    "python": {
     "delete_cmd_postfix": "",
     "delete_cmd_prefix": "del ",
     "library": "var_list.py",
     "varRefreshCmd": "print(var_dic_list())"
    },
    "r": {
     "delete_cmd_postfix": ") ",
     "delete_cmd_prefix": "rm(",
     "library": "var_list.r",
     "varRefreshCmd": "cat(var_dic_list()) "
    }
   },
   "types_to_exclude": [
    "module",
    "function",
    "builtin_function_or_method",
    "instance",
    "_Feature"
   ],
   "window_display": false
  }
 },
 "nbformat": 4,
 "nbformat_minor": 5
}
