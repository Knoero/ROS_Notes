{
 "cells": [
  {
   "cell_type": "markdown",
   "id": "998feb98",
   "metadata": {},
   "source": [
    "**Information:** *The weekly report supposed to be finished in week 7*\n",
    "\n",
    "**Written by:** *Zihao Xu*\n",
    "\n",
    "**Last update data:** *Oct.13.2021*"
   ]
  },
  {
   "cell_type": "markdown",
   "id": "a48d3221",
   "metadata": {},
   "source": [
    "# Get control of basic movements\n",
    "\n",
    "## Existing controller\n",
    "\n",
    "### Trajectory controller\n",
    "\n",
    "The current simulation script is using the *lee_position_controller_node* in the **RotorS**. The controller requires full information of the positions, velocities and accelerations with timestamps. As mentioned in last report, I don't think this controlling method is appropriate for the obstacle avoiding task. Therefore, some other controlling methods need to be investigated or created.\n",
    "\n",
    "### Controller for joystick usage\n",
    "\n",
    "The **RotorS** package actually provides two built-in controllers. In the examples provided by the **RotorS** package, the other controller is used for joystick usage. Considering the way that a joystick controls the UAV, this controller can probably control the very basic movements in an efficient way."
   ]
  },
  {
   "cell_type": "markdown",
   "id": "5df5b2ae",
   "metadata": {},
   "source": [
    "## Investigation to the C++ scripts\n",
    "\n",
    "To find out how to make use of the second controller, I looked carefully into the original scripts and added detailed comments. Here are some important notes.\n",
    "\n",
    "- According to the header file *rotors_control/common.h*, there should be commands to directly controll the movement described by roll, pitch, yaw rate and thrust. Similar to what we used to control the trajectory, the corresponding topic is *command/roll_pitch_yawrate_thrust*."
   ]
  },
  {
   "cell_type": "code",
   "execution_count": null,
   "id": "595703c8",
   "metadata": {},
   "outputs": [],
   "source": [
    "static const std::string kDefaultCommandMotorSpeedTopic =\n",
    "    mav_msgs::default_topics::COMMAND_ACTUATORS; // \"command/motor_speed\";\n",
    "static const std::string kDefaultCommandMultiDofJointTrajectoryTopic =\n",
    "    mav_msgs::default_topics::COMMAND_TRAJECTORY; // \"command/trajectory\"\n",
    "static const std::string kDefaultCommandRollPitchYawrateThrustTopic =\n",
    "    mav_msgs::default_topics::COMMAND_ROLL_PITCH_YAWRATE_THRUST;\n",
    "    // \"command/roll_pitch_yawrate_thrust\"\n",
    "static const std::string kDefaultImuTopic =\n",
    "    mav_msgs::default_topics::IMU; // \"imu\n",
    "static const std::string kDefaultOdometryTopic =\n",
    "    mav_msgs::default_topics::ODOMETRY; // \"odometry\""
   ]
  },
  {
   "cell_type": "markdown",
   "id": "decca70d",
   "metadata": {},
   "source": [
    "- The input message type for this controller is *mav_msgs::EigenRollPitchYawrateThrust*\n",
    "\n",
    "**mav_msgs::EigenRollPitchYawrateThrust**\n",
    "\n",
    "| Type | Name |\n",
    "| :---- | :---- |\n",
    "| *double* | pitch |\n",
    "| *double* | roll |\n",
    "| *Eigen::Vector3d* | thrust |\n",
    "| *double* | yaw_rate |"
   ]
  },
  {
   "cell_type": "markdown",
   "id": "f39c6006",
   "metadata": {},
   "source": [
    "- The controller is based on the implementation from [T. Lee et al paper](https://arxiv.org/abs/1003.2005)"
   ]
  },
  {
   "cell_type": "markdown",
   "id": "a0d12990",
   "metadata": {},
   "source": [
    "- The required parameters for starting the node are the same as that of the  *lee_position_controller_node*."
   ]
  },
  {
   "cell_type": "markdown",
   "id": "aee87261",
   "metadata": {},
   "source": [
    "# Get the visual information\n",
    "\n",
    "In the last meeting, Jianwen noted that I could probably get the visual input from the image topics. Here're some conclusions after trial.\n",
    "\n",
    "- Current UAV model uses two different cameras acting like two eyes.\n",
    "- The corresponding topics are */hunter/vi_sensor/left/raw* and */hunter/vi_sensor/left/raw*\n",
    "- Due to the location of cameras, the front motor occurs in the view, which seems need to be fixed for further development."
   ]
  },
  {
   "cell_type": "markdown",
   "id": "9c75b2de",
   "metadata": {},
   "source": [
    "# Summary and future work\n",
    "\n",
    "**In the past two weeks, I**\n",
    "\n",
    "- Read through the controller scripts and find out how to use the controller to control basic movements.\n",
    "- Tested the current visual information in several gazebo environments.\n",
    "\n",
    "**In the next two weeks, I'm planning to**\n",
    "\n",
    "- Edit the launch file of UAV simulation and change the controller node.\n",
    "- Modify the UAV model to put the cameras in better positions.\n",
    "- Build a subscriber for the visual information and check what I can do with the visual information (which kind of vision-based obstacle avoidance)."
   ]
  }
 ],
 "metadata": {
  "kernelspec": {
   "display_name": "C++11",
   "language": "C++11",
   "name": "xcpp11"
  },
  "language_info": {
   "codemirror_mode": "text/x-c++src",
   "file_extension": ".cpp",
   "mimetype": "text/x-c++src",
   "name": "c++",
   "version": "11"
  }
 },
 "nbformat": 4,
 "nbformat_minor": 5
}
