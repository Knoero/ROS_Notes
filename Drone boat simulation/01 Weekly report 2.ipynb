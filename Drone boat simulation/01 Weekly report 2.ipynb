{
 "cells": [
  {
   "cell_type": "markdown",
   "id": "d30e8b56",
   "metadata": {},
   "source": [
    "**Information:** *The weekly report supposed to be finished in week 4*\n",
    "\n",
    "**Written by:** *Zihao Xu*\n",
    "\n",
    "**Last update date:** *September.23.2021*"
   ]
  },
  {
   "cell_type": "markdown",
   "id": "d27f0735",
   "metadata": {},
   "source": [
    "# Overview\n",
    "\n",
    "First of all, I need to apologize for not having much progress after merely four weeks. I was busy working on the registration affairs in the first two weeks, which was mentioned in the meeting with Jianwen. After that, I spend roughly one-week time reviewing the ROS operations and finding some tutorials of gazebo. Sorry for the low productivity in the past few weeks and I would try to compensate for the missing time in the upcoming weeks.\n",
    "\n",
    "The first part of this report is the notes I made when I was reviewing the ROS operations. It's a necessary quick reference for me given that it has been a long time since the last time I worked with ROS. I separate it from this report.\n",
    "\n",
    "The second part is the notes I took to modify the **hunter_gazebo** package. I was trying to make it clear the structure of the projects, which is essential for me to add or delete some functions in the simulation.\n",
    "\n",
    "The third part is some notes for future integration. Some files have been edited but not yet pushed to git repo, because I'm not sure if that's necessary given that I'm only making some small changes and whether to keep the old codes.\n",
    "\n",
    "The last part is an summary for past work and a plan of future work."
   ]
  },
  {
   "cell_type": "markdown",
   "id": "c0ec0de0",
   "metadata": {},
   "source": [
    "# Package Analysis: hunter_gazebo\n",
    "## package.xml\n",
    "In the **package.xml** file, I noticed the author claimed the dependencies in a quite complex way."
   ]
  },
  {
   "cell_type": "code",
   "execution_count": null,
   "id": "8fe43512",
   "metadata": {},
   "outputs": [],
   "source": [
    "<build_depend>geometry_msgs</build_depend>\n",
    "<build_depend>rospy</build_depend>\n",
    "<build_depend>sensor_msgs</build_depend>\n",
    "<build_depend>std_msgs</build_depend>\n",
    "<build_export_depend>geometry_msgs</build_export_depend>\n",
    "<build_export_depend>rospy</build_export_depend>\n",
    "<build_export_depend>sensor_msgs</build_export_depend>\n",
    "<build_export_depend>std_msgs</build_export_depend>\n",
    "<exec_depend>geometry_msgs</exec_depend>\n",
    "<exec_depend>rospy</exec_depend>\n",
    "<exec_depend>sensor_msgs</exec_depend>\n",
    "<exec_depend>std_msgs</exec_depend>"
   ]
  },
  {
   "cell_type": "markdown",
   "id": "d55c9738",
   "metadata": {},
   "source": [
    "According to the ROS Wiki, if a dependency is a build, export, and execution dependency, it can be claimed by *``<depend>package</depend>``*. Therefore, I simplified the claims."
   ]
  },
  {
   "cell_type": "code",
   "execution_count": null,
   "id": "515fdb0a",
   "metadata": {},
   "outputs": [],
   "source": [
    "<depend>geometry_msgs</depend>\n",
    "<depend>rospy</depend>\n",
    "<depend>sensor_msgs</depend>\n",
    "<depend>std_msgs</depend>"
   ]
  },
  {
   "cell_type": "markdown",
   "id": "dbe22406",
   "metadata": {},
   "source": [
    "The *``catkin_make``* command works well."
   ]
  },
  {
   "cell_type": "markdown",
   "id": "1a3723bf",
   "metadata": {},
   "source": [
    "## run_simulation.launch\n",
    "\n",
    "### Arguments for this launch file\n",
    "\n",
    "- First declare several arguments with default values. These values can be overridden by command-line argument or via *``include``* passing.\n",
    "- *``<arg>``* tag allows to create more re-usable and configurable launch files by specifying values that are passed via the command-line, passing in via an *``<include>``*, or declared for higher-level files."
   ]
  },
  {
   "cell_type": "code",
   "execution_count": null,
   "id": "81f475d4",
   "metadata": {},
   "outputs": [],
   "source": [
    "<arg name=\"world_name\" default=\"basic\"/>\n",
    "<arg name=\"enable_logging\" default=\"false\"/>\n",
    "<arg name=\"enable_ground_truth\" default=\"true\"/>\n",
    "<arg name=\"enable_gui\" default=\"true\"/>"
   ]
  },
  {
   "cell_type": "markdown",
   "id": "2bf5f4fb",
   "metadata": {},
   "source": [
    "- This is an argument with a constant value which cannot be overridden."
   ]
  },
  {
   "cell_type": "code",
   "execution_count": null,
   "id": "8cebf9b8",
   "metadata": {},
   "outputs": [],
   "source": [
    "<arg name=\"paused\" value=\"false\"/>"
   ]
  },
  {
   "cell_type": "markdown",
   "id": "92c15272",
   "metadata": {},
   "source": [
    "### Environment variables for nodes\n",
    "\n",
    "- Then set the environment variables on nodes that are to be launched in this file.\n",
    "- Here declares the path of the **gazebo model** and the **gazebo resource**. Their absolute path is *``src/drone_boat_simulation_rotors_simulator/rotors_gazebo/models``*. They are models embedded in the **[RotorS](https://github.com/ethz-asl/rotors_simulator)** package."
   ]
  },
  {
   "cell_type": "code",
   "execution_count": null,
   "id": "b5727bc2",
   "metadata": {},
   "outputs": [],
   "source": [
    "<env name=\"GAZEBO_MODEL_PATH\" value=\"${GAZEBO_MODEL_PATH}:$(find rotors_gazebo)/models\"/>\n",
    "<env name=\"GAZEBO_RESOURCE_PATH\" value=\"${GAZEBO_RESOURCE_PATH}:$(find rotors_gazebo)/models\"/>"
   ]
  },
  {
   "cell_type": "markdown",
   "id": "608b16f4",
   "metadata": {},
   "source": [
    "### Gazebo environment: empty world\n",
    "\n",
    "- The next step is to import the launch file built in gazebo into the current file to create an empty world.\n",
    "- The absolute path of this launch file is *``/opt/ros/noetic/share/gazebo_ros/launch/empty_world.launch``*. The arguments that can be passed to it can be viewed in the launch file.\n",
    "- Here only three arguments are passed to it:\n",
    "    - *``world_name``*\n",
    "    - *``paused``*\n",
    "    - *``gui``*"
   ]
  },
  {
   "cell_type": "code",
   "execution_count": null,
   "id": "790d49b7",
   "metadata": {},
   "outputs": [],
   "source": [
    "<include file=\"$(find gazebo_ros)/launch/empty_world.launch\">\n",
    "    <arg name=\"world_name\" value=\"$(find rotors_gazebo)/worlds/$(arg world_name).world\"/>\n",
    "    <arg name=\"paused\" value=\"$(arg paused)\"/>\n",
    "    <arg name=\"gui\" value=\"$(arg enable_gui)\"/>\n",
    "</include>"
   ]
  },
  {
   "cell_type": "markdown",
   "id": "e50bb7c1",
   "metadata": {},
   "source": [
    "### Quadcopter Nodes\n",
    "\n",
    "- In the original launch file, the following are two groups of launch commands which starts two UAVs in the created empty world. Given that we're going to use only a **Quadcopter** for the project, the launch commands for the Hexacopter is deleted in the new launch file.\n",
    "- Here are the commands in the *``group``* tag whose namespace is *``hunter``*. It sets a group of nodes which simulates the Quadcopter.\n",
    "\n",
    "**Quadcopter Model Node**\n",
    "\n",
    "- The first part is to import the launch file embedded in the **RotorS** package which creates the UAV in gazebo. The absolute path of this launch file is *``src/drone_boat_simulation_rotors_simulator/rotors_gazebo/launch/spawn_mav.launch``*. It also provides a lot of editable arguments.\n",
    "- The model for this Quadcopter is an **AscTec Pelican**.\n",
    "- The created model is a running node with several parameters (positions, rotations, etc.) continuously updated."
   ]
  },
  {
   "cell_type": "code",
   "execution_count": null,
   "id": "e1bcea24",
   "metadata": {},
   "outputs": [],
   "source": [
    "    <include file=\"$(find rotors_gazebo)/launch/spawn_mav.launch\">\n",
    "      <arg name=\"mav_name\" value=\"pelican\" />\n",
    "      <arg name=\"namespace\" value=\"hunter\" />\n",
    "      <arg name=\"model\" value=\"$(find rotors_description)/urdf/mav_with_vi_sensor.gazebo\" />\n",
    "      <arg name=\"enable_logging\" value=\"$(arg enable_logging)\" />\n",
    "      <arg name=\"enable_ground_truth\" value=\"$(arg enable_ground_truth)\" />\n",
    "      <arg name=\"log_file\" value=\"pelican\"/>\n",
    "      <arg name=\"x\" value=\"4.0\"/>\n",
    "      <arg name=\"y\" value=\"0\"/>\n",
    "      <arg name=\"z\" value=\"1\"/>\n",
    "    </include>"
   ]
  },
  {
   "cell_type": "markdown",
   "id": "203fcefe",
   "metadata": {},
   "source": [
    "**Position Controller Node**\n",
    "\n",
    "- The second part is a position controller node embedded in the **RotorS** package."
   ]
  },
  {
   "cell_type": "code",
   "execution_count": null,
   "id": "1019631d",
   "metadata": {},
   "outputs": [],
   "source": [
    "    <node name=\"lee_position_controller_node\" pkg=\"rotors_control\" type=\"lee_position_controller_node\" output=\"screen\">\n",
    "      <rosparam command=\"load\" file=\"$(find rotors_gazebo)/resource/lee_controller_pelican.yaml\" />\n",
    "      <rosparam command=\"load\" file=\"$(find rotors_gazebo)/resource/pelican.yaml\" />\n",
    "      <remap from=\"odometry\" to=\"ground_truth/odometry\" />\n",
    "    </node>"
   ]
  },
  {
   "cell_type": "markdown",
   "id": "b66a2929",
   "metadata": {},
   "source": [
    "**State Publisher Nodes**\n",
    "\n",
    "- The third part consists of two state publisher nodes which publish robot states and joint states."
   ]
  },
  {
   "cell_type": "code",
   "execution_count": null,
   "id": "d21490b7",
   "metadata": {},
   "outputs": [],
   "source": [
    "    <node name=\"robot_state_publisher\" pkg=\"robot_state_publisher\" type=\"robot_state_publisher\" />\n",
    "    <node name=\"joint_state_publisher\" pkg=\"joint_state_publisher\" type=\"joint_state_publisher\" />"
   ]
  },
  {
   "cell_type": "markdown",
   "id": "44a3c880",
   "metadata": {},
   "source": [
    "**Path Planning Node**\n",
    "\n",
    "- The last part is a custom node responsible for path planning. It communicates with the position controller node and state publisher node.\n",
    "- The script for path planning has been edited to draw a heart-like shape, mentioned in last report."
   ]
  },
  {
   "cell_type": "code",
   "execution_count": null,
   "id": "fe0573ef",
   "metadata": {},
   "outputs": [],
   "source": [
    "    <node name=\"waypoint_publisher\" pkg=\"hunter_gazebo\" type=\"follow_waypoints.py\" output=\"screen\" respawn=\"true\">\n",
    "      <param name=\"~dt\" value=\"0.1\"/>\n",
    "      <param name=\"~velocity\" value=\"5\"/>\n",
    "      <param name=\"~inertial_frame\" value=\"world\"/>\n",
    "      <param name=\"~base_frame\" value=\"/hunter/base_frame\"/>\n",
    "      <remap from=\"odometry\" to=\"ground_truth/odometry\"/>\n",
    "    </node>"
   ]
  },
  {
   "cell_type": "markdown",
   "id": "8acf3553",
   "metadata": {},
   "source": [
    "### nodelet\n",
    "- Currently I cannot understand what's the function of this node while it's supposed to provide a way to run multiple algorithms in the same process with zero copy transport between algorithms."
   ]
  },
  {
   "cell_type": "code",
   "execution_count": null,
   "id": "f31a7e56",
   "metadata": {},
   "outputs": [],
   "source": [
    "<node pkg=\"nodelet\" type=\"nodelet\" name=\"stereo_proc_manager\" args=\"manager\" output=\"screen\"/>"
   ]
  },
  {
   "cell_type": "markdown",
   "id": "dacce744",
   "metadata": {},
   "source": [
    "# Notes for future integration\n",
    "\n",
    "## Git Repository\n",
    "\n",
    "Some latest commits are using the [submodule](https://git-scm.com/book/en/v2/Git-Tools-Submodules) tool in Github. That is great but I suggest that some changes should be made to the instructions in README.md about cloning the project. When a project with a submodule in it, by default the directories that contain submodules would be got but none of the files within them yet.\n",
    "\n",
    "One way is to run the following two commands after cloning the project as usual:\n",
    "\n",
    "- *``git submodule init``*\n",
    "\n",
    "- *``git submodule update``*\n",
    "\n",
    "Another way is to pass *``--recurse-submodules``* to the *``git clone``* command. That is:\n",
    "\n",
    "- *``git clone --recurse-submodules <git repo address>``*\n",
    "\n",
    "However, I cannot succesfully build the work space after downloading all the submodules while I do not know what's going wrong in the building process. I only downloaded the *``mav_comm``* submodule which is necessary for me to simulate the motions of the UAV."
   ]
  },
  {
   "cell_type": "markdown",
   "id": "8fc21d38",
   "metadata": {},
   "source": [
    "## Editted Files\n",
    "\n",
    "### package.xml\n",
    "\n",
    "**Directory:** *``catkin_ws/src/drone_boat_simulation/hunter_gazebo/package.xml``*\n",
    "\n",
    "**Description:** Simplify the dependency claims.\n",
    "\n",
    "### run_simulation.launch\n",
    "\n",
    "**Directory:** *``catkin_ws/src/drone_boat_simulation/hunter_gazebo/launch/run_simulation.launch``*\n",
    "\n",
    "**Description:** Comment out the launch commands for *``drone_tracker``*, which is currently unused. Comment out the nodes group for the hexacopter *firefly*. Add detailed comments for each part.\n",
    "\n",
    "### follow_waypoints.py\n",
    "\n",
    "**Directory:** *``catkin_ws/src/drone_boat_simulation/hunter_gazebo/scripts/follow_waypoints.py``*\n",
    "\n",
    "**Description:** Add detailed comments. Comment out unused functions and imports. Add one new heart-shape trajectory for the drone."
   ]
  },
  {
   "cell_type": "markdown",
   "id": "bbfdc769",
   "metadata": {},
   "source": [
    "# Summary and future work\n",
    "\n",
    "## Summary\n",
    "\n",
    "In the past few weeks, I\n",
    "\n",
    "- reviewed the ROS operations and made some notes about ROS for quick reference\n",
    "- analyzed the file system of this project carefully and optimized the dependency claims\n",
    "- made it clear which nodes are launched and functioning\n",
    "- optimized the launch file according to test needs\n",
    "- got a rough understanding of how to use gazebo\n",
    "\n",
    "## Future work\n",
    "\n",
    "In the next week, I plan to\n",
    "\n",
    "- check the position controller node and find ways to get control of primitive motions\n",
    "- add obstacles in Gazebo environment for future tests\n",
    "- explore existing obstacle avoidance algorithms"
   ]
  }
 ],
 "metadata": {
  "kernelspec": {
   "display_name": "Python 3 (ipykernel)",
   "language": "python",
   "name": "python3"
  },
  "language_info": {
   "codemirror_mode": {
    "name": "ipython",
    "version": 3
   },
   "file_extension": ".py",
   "mimetype": "text/x-python",
   "name": "python",
   "nbconvert_exporter": "python",
   "pygments_lexer": "ipython3",
   "version": "3.8.11"
  },
  "toc": {
   "base_numbering": 1,
   "nav_menu": {},
   "number_sections": true,
   "sideBar": true,
   "skip_h1_title": false,
   "title_cell": "Table of Contents",
   "title_sidebar": "Contents",
   "toc_cell": false,
   "toc_position": {},
   "toc_section_display": true,
   "toc_window_display": false
  },
  "varInspector": {
   "cols": {
    "lenName": 16,
    "lenType": 16,
    "lenVar": 40
   },
   "kernels_config": {
    "python": {
     "delete_cmd_postfix": "",
     "delete_cmd_prefix": "del ",
     "library": "var_list.py",
     "varRefreshCmd": "print(var_dic_list())"
    },
    "r": {
     "delete_cmd_postfix": ") ",
     "delete_cmd_prefix": "rm(",
     "library": "var_list.r",
     "varRefreshCmd": "cat(var_dic_list()) "
    }
   },
   "types_to_exclude": [
    "module",
    "function",
    "builtin_function_or_method",
    "instance",
    "_Feature"
   ],
   "window_display": false
  }
 },
 "nbformat": 4,
 "nbformat_minor": 5
}
